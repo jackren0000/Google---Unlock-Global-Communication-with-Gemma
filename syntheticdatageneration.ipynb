{
 "cells": [
  {
   "cell_type": "code",
   "execution_count": 1,
   "id": "b9362d0b",
   "metadata": {
    "_cell_guid": "b1076dfc-b9ad-4769-8c92-a6c4dae69d19",
    "_uuid": "8f2839f25d086af736a60e9eeb907d3b93b6e0e5",
    "execution": {
     "iopub.execute_input": "2025-01-12T09:15:50.118332Z",
     "iopub.status.busy": "2025-01-12T09:15:50.117929Z",
     "iopub.status.idle": "2025-01-12T09:15:51.883148Z",
     "shell.execute_reply": "2025-01-12T09:15:51.882107Z"
    },
    "papermill": {
     "duration": 1.771699,
     "end_time": "2025-01-12T09:15:51.885258",
     "exception": false,
     "start_time": "2025-01-12T09:15:50.113559",
     "status": "completed"
    },
    "tags": []
   },
   "outputs": [],
   "source": [
    "# configuration for using Gemini API\n",
    "import google.generativeai as genai\n",
    "from google.ai.generativelanguage_v1beta.types import content\n",
    "from kaggle_secrets import UserSecretsClient\n",
    "\n",
    "user_secrets = UserSecretsClient()\n",
    "gemini_token = user_secrets.get_secret(\"GEMINI_API\")\n",
    "genai.configure(api_key=gemini_token)"
   ]
  },
  {
   "cell_type": "code",
   "execution_count": 2,
   "id": "f7376056",
   "metadata": {
    "execution": {
     "iopub.execute_input": "2025-01-12T09:15:51.892144Z",
     "iopub.status.busy": "2025-01-12T09:15:51.891649Z",
     "iopub.status.idle": "2025-01-12T09:15:51.897427Z",
     "shell.execute_reply": "2025-01-12T09:15:51.896450Z"
    },
    "papermill": {
     "duration": 0.010809,
     "end_time": "2025-01-12T09:15:51.899185",
     "exception": false,
     "start_time": "2025-01-12T09:15:51.888376",
     "status": "completed"
    },
    "tags": []
   },
   "outputs": [],
   "source": [
    "# instruction and format configuration\n",
    "sys_instruction = \"You are an expert bilingual translator specializing in Arabic and English, with advanced knowledge in medical and engineering fields\"\n",
    "\n",
    "generation_config = {\n",
    "  \"temperature\": 1,\n",
    "  \"top_p\": 0.95,\n",
    "  \"response_schema\": content.Schema(\n",
    "    type = content.Type.OBJECT,\n",
    "    required = [\"Arabic\", \"Literal\", \"Intended\"],\n",
    "    properties = {\n",
    "      \"Arabic\": content.Schema(\n",
    "        type = content.Type.STRING,\n",
    "      ),\n",
    "      \"Literal\": content.Schema(\n",
    "        type = content.Type.STRING,\n",
    "      ),\n",
    "      \"Intended\": content.Schema(\n",
    "        type = content.Type.STRING,\n",
    "      ),\n",
    "    },\n",
    "  ),\n",
    "  \"response_mime_type\": \"application/json\",\n",
    "}"
   ]
  },
  {
   "cell_type": "code",
   "execution_count": 3,
   "id": "6bc75848",
   "metadata": {
    "execution": {
     "iopub.execute_input": "2025-01-12T09:15:51.905452Z",
     "iopub.status.busy": "2025-01-12T09:15:51.905102Z",
     "iopub.status.idle": "2025-01-12T09:15:53.137888Z",
     "shell.execute_reply": "2025-01-12T09:15:53.136578Z"
    },
    "papermill": {
     "duration": 1.237893,
     "end_time": "2025-01-12T09:15:53.139822",
     "exception": false,
     "start_time": "2025-01-12T09:15:51.901929",
     "status": "completed"
    },
    "tags": []
   },
   "outputs": [
    {
     "name": "stdout",
     "output_type": "stream",
     "text": [
      "{\n",
      "    \"Arabic\": \"يا زلمة\",\n",
      "    \"Intended\": \"Dude, man\",\n",
      "    \"Literal\": \"Oh, man (literally, oh, guy)\"\n",
      "}\n"
     ]
    }
   ],
   "source": [
    "# initialize model\n",
    "model = genai.GenerativeModel(\n",
    "  model_name=\"gemini-2.0-flash-exp\",\n",
    "  generation_config=generation_config,\n",
    "  system_instruction=sys_instruction,\n",
    ")\n",
    "\n",
    "# test\n",
    "prompt = \"Generate examples of slang, idioms, or technical phrases in Arabic that may lead to inaccurate translation into English. Include the Arabic phrase, its literal English translation, the intended meaning.\"\n",
    "response = model.generate_content(prompt)\n",
    "print(response.text)"
   ]
  },
  {
   "cell_type": "code",
   "execution_count": 4,
   "id": "85b40a24",
   "metadata": {
    "execution": {
     "iopub.execute_input": "2025-01-12T09:15:53.146358Z",
     "iopub.status.busy": "2025-01-12T09:15:53.145997Z",
     "iopub.status.idle": "2025-01-12T09:15:53.151396Z",
     "shell.execute_reply": "2025-01-12T09:15:53.150383Z"
    },
    "papermill": {
     "duration": 0.010475,
     "end_time": "2025-01-12T09:15:53.153115",
     "exception": false,
     "start_time": "2025-01-12T09:15:53.142640",
     "status": "completed"
    },
    "tags": []
   },
   "outputs": [],
   "source": [
    "# generate synthetic data\n",
    "import json\n",
    "\n",
    "Arabic = []\n",
    "English = []\n",
    "\n",
    "def generate_data(prompt):\n",
    "    for i in range(10):\n",
    "        response = model.generate_content(prompt)\n",
    "        response = json.loads(response.text)\n",
    "        Arabic.append(response['Arabic'])\n",
    "        English.append(response['Intended'])"
   ]
  },
  {
   "cell_type": "code",
   "execution_count": 5,
   "id": "5a962e0d",
   "metadata": {
    "execution": {
     "iopub.execute_input": "2025-01-12T09:15:53.159605Z",
     "iopub.status.busy": "2025-01-12T09:15:53.159225Z",
     "iopub.status.idle": "2025-01-12T09:29:07.023197Z",
     "shell.execute_reply": "2025-01-12T09:29:07.022147Z"
    },
    "papermill": {
     "duration": 793.86932,
     "end_time": "2025-01-12T09:29:07.025225",
     "exception": false,
     "start_time": "2025-01-12T09:15:53.155905",
     "status": "completed"
    },
    "tags": []
   },
   "outputs": [],
   "source": [
    "# create interval to avoid API quota limitiations\n",
    "import time\n",
    "time.sleep(65)\n",
    "\n",
    "for _ in range(10):\n",
    "    generate_data(\"prompt\")\n",
    "    time.sleep(65)"
   ]
  },
  {
   "cell_type": "code",
   "execution_count": 6,
   "id": "35b66fb7",
   "metadata": {
    "execution": {
     "iopub.execute_input": "2025-01-12T09:29:07.031777Z",
     "iopub.status.busy": "2025-01-12T09:29:07.031441Z",
     "iopub.status.idle": "2025-01-12T09:29:07.039465Z",
     "shell.execute_reply": "2025-01-12T09:29:07.038417Z"
    },
    "papermill": {
     "duration": 0.01313,
     "end_time": "2025-01-12T09:29:07.041183",
     "exception": false,
     "start_time": "2025-01-12T09:29:07.028053",
     "status": "completed"
    },
    "tags": []
   },
   "outputs": [
    {
     "name": "stdout",
     "output_type": "stream",
     "text": [
      "**************************************************\n",
      "The lenth of the data:\n",
      "100\n",
      "**************************************************\n",
      "Example:\n",
      "English: Hello\n",
      "Arabic: مرحبا\n"
     ]
    }
   ],
   "source": [
    "# print the result\n",
    "print(\"*\" * 50)\n",
    "print(\"The lenth of the data:\")\n",
    "print(len(English))\n",
    "\n",
    "print(\"*\" * 50)\n",
    "print(\"Example:\")\n",
    "print(\"English:\", English[10])\n",
    "print(\"Arabic:\", Arabic[10])"
   ]
  },
  {
   "cell_type": "code",
   "execution_count": 7,
   "id": "7290ab19",
   "metadata": {
    "execution": {
     "iopub.execute_input": "2025-01-12T09:29:07.048090Z",
     "iopub.status.busy": "2025-01-12T09:29:07.047744Z",
     "iopub.status.idle": "2025-01-12T09:29:07.463195Z",
     "shell.execute_reply": "2025-01-12T09:29:07.461963Z"
    },
    "papermill": {
     "duration": 0.421165,
     "end_time": "2025-01-12T09:29:07.465285",
     "exception": false,
     "start_time": "2025-01-12T09:29:07.044120",
     "status": "completed"
    },
    "tags": []
   },
   "outputs": [],
   "source": [
    "# save as .csv file\n",
    "import pandas as pd\n",
    "df = pd.DataFrame({\"English\" : English, \"Arabic\" : Arabic})\n",
    "df.to_csv(\"syntheticData.csv\", index=False)"
   ]
  }
 ],
 "metadata": {
  "kaggle": {
   "accelerator": "none",
   "dataSources": [],
   "dockerImageVersionId": 30822,
   "isGpuEnabled": false,
   "isInternetEnabled": true,
   "language": "python",
   "sourceType": "notebook"
  },
  "kernelspec": {
   "display_name": "Python 3",
   "language": "python",
   "name": "python3"
  },
  "language_info": {
   "codemirror_mode": {
    "name": "ipython",
    "version": 3
   },
   "file_extension": ".py",
   "mimetype": "text/x-python",
   "name": "python",
   "nbconvert_exporter": "python",
   "pygments_lexer": "ipython3",
   "version": "3.10.12"
  },
  "papermill": {
   "default_parameters": {},
   "duration": 800.386227,
   "end_time": "2025-01-12T09:29:08.088908",
   "environment_variables": {},
   "exception": null,
   "input_path": "__notebook__.ipynb",
   "output_path": "__notebook__.ipynb",
   "parameters": {},
   "start_time": "2025-01-12T09:15:47.702681",
   "version": "2.6.0"
  }
 },
 "nbformat": 4,
 "nbformat_minor": 5
}
