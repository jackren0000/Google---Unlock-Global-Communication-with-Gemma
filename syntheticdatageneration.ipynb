{
 "cells": [
  {
   "cell_type": "code",
   "execution_count": 1,
   "id": "d6016015",
   "metadata": {
    "_cell_guid": "b1076dfc-b9ad-4769-8c92-a6c4dae69d19",
    "_uuid": "8f2839f25d086af736a60e9eeb907d3b93b6e0e5",
    "execution": {
     "iopub.execute_input": "2025-01-11T09:03:34.405394Z",
     "iopub.status.busy": "2025-01-11T09:03:34.405031Z",
     "iopub.status.idle": "2025-01-11T09:03:36.061477Z",
     "shell.execute_reply": "2025-01-11T09:03:36.060294Z"
    },
    "papermill": {
     "duration": 1.663006,
     "end_time": "2025-01-11T09:03:36.063767",
     "exception": false,
     "start_time": "2025-01-11T09:03:34.400761",
     "status": "completed"
    },
    "tags": []
   },
   "outputs": [],
   "source": [
    "# configuration for using Gemini API\n",
    "import google.generativeai as genai\n",
    "from google.ai.generativelanguage_v1beta.types import content\n",
    "from kaggle_secrets import UserSecretsClient\n",
    "\n",
    "user_secrets = UserSecretsClient()\n",
    "gemini_token = user_secrets.get_secret(\"GEMINI_API\")\n",
    "genai.configure(api_key=gemini_token)"
   ]
  },
  {
   "cell_type": "code",
   "execution_count": 2,
   "id": "c18dc8b4",
   "metadata": {
    "execution": {
     "iopub.execute_input": "2025-01-11T09:03:36.070669Z",
     "iopub.status.busy": "2025-01-11T09:03:36.070085Z",
     "iopub.status.idle": "2025-01-11T09:03:36.076304Z",
     "shell.execute_reply": "2025-01-11T09:03:36.075213Z"
    },
    "papermill": {
     "duration": 0.011414,
     "end_time": "2025-01-11T09:03:36.078026",
     "exception": false,
     "start_time": "2025-01-11T09:03:36.066612",
     "status": "completed"
    },
    "tags": []
   },
   "outputs": [],
   "source": [
    "# instruction and format configuration\n",
    "sys_instruction = \"Your task is to generate a list of sentences in both Arabic and English that could potentially cause confusion or misinterpretation for individuals unfamiliar with these languages. Focus on creating examples from the domains of medical and engineering. \"\n",
    "\n",
    "generation_config = {\n",
    "  \"temperature\": 1,\n",
    "  \"top_p\": 0.95,\n",
    "  \"response_schema\": content.Schema(\n",
    "    type = content.Type.OBJECT,\n",
    "    required = [\"Arabic\", \"English\"],\n",
    "    properties = {\n",
    "      \"Arabic\": content.Schema(\n",
    "        type = content.Type.STRING,\n",
    "      ),\n",
    "      \"English\": content.Schema(\n",
    "        type = content.Type.STRING,\n",
    "      ),\n",
    "    },\n",
    "  ),\n",
    "  \"response_mime_type\": \"application/json\",\n",
    "}"
   ]
  },
  {
   "cell_type": "code",
   "execution_count": 3,
   "id": "83aa5cbe",
   "metadata": {
    "execution": {
     "iopub.execute_input": "2025-01-11T09:03:36.084019Z",
     "iopub.status.busy": "2025-01-11T09:03:36.083554Z",
     "iopub.status.idle": "2025-01-11T09:03:37.345632Z",
     "shell.execute_reply": "2025-01-11T09:03:37.344441Z"
    },
    "papermill": {
     "duration": 1.267141,
     "end_time": "2025-01-11T09:03:37.347569",
     "exception": false,
     "start_time": "2025-01-11T09:03:36.080428",
     "status": "completed"
    },
    "tags": []
   },
   "outputs": [
    {
     "name": "stdout",
     "output_type": "stream",
     "text": [
      "{\n",
      "  \"Arabic\": \"المريض يعاني من ضغط في الرأس\",\n",
      "  \"English\": \"The patient is suffering from pressure in the head.\"\n",
      "}\n"
     ]
    }
   ],
   "source": [
    "# initialize model\n",
    "model = genai.GenerativeModel(\n",
    "  model_name=\"gemini-2.0-flash-exp\",\n",
    "  generation_config=generation_config,\n",
    "  system_instruction=sys_instruction,\n",
    ")\n",
    "\n",
    "# test\n",
    "response = model.generate_content(\"Generate\")\n",
    "print(response.text)"
   ]
  },
  {
   "cell_type": "code",
   "execution_count": 4,
   "id": "6b5f3f39",
   "metadata": {
    "execution": {
     "iopub.execute_input": "2025-01-11T09:03:37.354013Z",
     "iopub.status.busy": "2025-01-11T09:03:37.353484Z",
     "iopub.status.idle": "2025-01-11T09:03:37.357748Z",
     "shell.execute_reply": "2025-01-11T09:03:37.356565Z"
    },
    "papermill": {
     "duration": 0.009634,
     "end_time": "2025-01-11T09:03:37.359740",
     "exception": false,
     "start_time": "2025-01-11T09:03:37.350106",
     "status": "completed"
    },
    "tags": []
   },
   "outputs": [],
   "source": [
    "# import json\n",
    "\n",
    "# Arabic = []\n",
    "# English = []\n",
    "\n",
    "# for i in range(30):\n",
    "#     response = model.generate_content(\"Generate\")\n",
    "#     response = json.loads(response.text)\n",
    "#     Arabic.append(response['Arabic'])\n",
    "#     English.append(response['English'])\n",
    "\n",
    "#     if i % 50 = 0:\n",
    "#         sleep(4)"
   ]
  },
  {
   "cell_type": "code",
   "execution_count": 5,
   "id": "6f4d87c8",
   "metadata": {
    "execution": {
     "iopub.execute_input": "2025-01-11T09:03:37.366562Z",
     "iopub.status.busy": "2025-01-11T09:03:37.366215Z",
     "iopub.status.idle": "2025-01-11T09:03:37.370330Z",
     "shell.execute_reply": "2025-01-11T09:03:37.369205Z"
    },
    "papermill": {
     "duration": 0.009746,
     "end_time": "2025-01-11T09:03:37.372329",
     "exception": false,
     "start_time": "2025-01-11T09:03:37.362583",
     "status": "completed"
    },
    "tags": []
   },
   "outputs": [],
   "source": [
    "# print(English[0])"
   ]
  },
  {
   "cell_type": "code",
   "execution_count": null,
   "id": "edd48904",
   "metadata": {
    "papermill": {
     "duration": 0.002009,
     "end_time": "2025-01-11T09:03:37.377021",
     "exception": false,
     "start_time": "2025-01-11T09:03:37.375012",
     "status": "completed"
    },
    "tags": []
   },
   "outputs": [],
   "source": []
  }
 ],
 "metadata": {
  "kaggle": {
   "accelerator": "none",
   "dataSources": [],
   "dockerImageVersionId": 30822,
   "isGpuEnabled": false,
   "isInternetEnabled": true,
   "language": "python",
   "sourceType": "notebook"
  },
  "kernelspec": {
   "display_name": "Python 3",
   "language": "python",
   "name": "python3"
  },
  "language_info": {
   "codemirror_mode": {
    "name": "ipython",
    "version": 3
   },
   "file_extension": ".py",
   "mimetype": "text/x-python",
   "name": "python",
   "nbconvert_exporter": "python",
   "pygments_lexer": "ipython3",
   "version": "3.10.12"
  },
  "papermill": {
   "default_parameters": {},
   "duration": 5.976029,
   "end_time": "2025-01-11T09:03:38.001227",
   "environment_variables": {},
   "exception": null,
   "input_path": "__notebook__.ipynb",
   "output_path": "__notebook__.ipynb",
   "parameters": {},
   "start_time": "2025-01-11T09:03:32.025198",
   "version": "2.6.0"
  }
 },
 "nbformat": 4,
 "nbformat_minor": 5
}
