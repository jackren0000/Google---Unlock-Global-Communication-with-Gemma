{
 "cells": [
  {
   "cell_type": "code",
   "execution_count": 1,
   "id": "8528c80d",
   "metadata": {
    "_cell_guid": "b1076dfc-b9ad-4769-8c92-a6c4dae69d19",
    "_uuid": "8f2839f25d086af736a60e9eeb907d3b93b6e0e5",
    "execution": {
     "iopub.execute_input": "2025-01-12T08:50:44.479147Z",
     "iopub.status.busy": "2025-01-12T08:50:44.478777Z",
     "iopub.status.idle": "2025-01-12T08:50:46.506898Z",
     "shell.execute_reply": "2025-01-12T08:50:46.506060Z"
    },
    "papermill": {
     "duration": 2.034097,
     "end_time": "2025-01-12T08:50:46.508693",
     "exception": false,
     "start_time": "2025-01-12T08:50:44.474596",
     "status": "completed"
    },
    "tags": []
   },
   "outputs": [],
   "source": [
    "# configuration for using Gemini API\n",
    "import google.generativeai as genai\n",
    "from google.ai.generativelanguage_v1beta.types import content\n",
    "from kaggle_secrets import UserSecretsClient\n",
    "\n",
    "user_secrets = UserSecretsClient()\n",
    "gemini_token = user_secrets.get_secret(\"GEMINI_API\")\n",
    "genai.configure(api_key=gemini_token)"
   ]
  },
  {
   "cell_type": "code",
   "execution_count": 2,
   "id": "49864c00",
   "metadata": {
    "execution": {
     "iopub.execute_input": "2025-01-12T08:50:46.515009Z",
     "iopub.status.busy": "2025-01-12T08:50:46.514539Z",
     "iopub.status.idle": "2025-01-12T08:50:46.519928Z",
     "shell.execute_reply": "2025-01-12T08:50:46.518960Z"
    },
    "papermill": {
     "duration": 0.009834,
     "end_time": "2025-01-12T08:50:46.521354",
     "exception": false,
     "start_time": "2025-01-12T08:50:46.511520",
     "status": "completed"
    },
    "tags": []
   },
   "outputs": [],
   "source": [
    "# instruction and format configuration\n",
    "sys_instruction = \"You are an expert bilingual translator specializing in Arabic and English, with advanced knowledge in medical and engineering fields\"\n",
    "\n",
    "generation_config = {\n",
    "  \"temperature\": 1,\n",
    "  \"top_p\": 0.95,\n",
    "  \"response_schema\": content.Schema(\n",
    "    type = content.Type.OBJECT,\n",
    "    required = [\"Arabic\", \"Literal\", \"Intended\"],\n",
    "    properties = {\n",
    "      \"Arabic\": content.Schema(\n",
    "        type = content.Type.STRING,\n",
    "      ),\n",
    "      \"Literal\": content.Schema(\n",
    "        type = content.Type.STRING,\n",
    "      ),\n",
    "      \"Intended\": content.Schema(\n",
    "        type = content.Type.STRING,\n",
    "      ),\n",
    "    },\n",
    "  ),\n",
    "  \"response_mime_type\": \"application/json\",\n",
    "}"
   ]
  },
  {
   "cell_type": "code",
   "execution_count": 3,
   "id": "73f4af35",
   "metadata": {
    "execution": {
     "iopub.execute_input": "2025-01-12T08:50:46.527016Z",
     "iopub.status.busy": "2025-01-12T08:50:46.526737Z",
     "iopub.status.idle": "2025-01-12T08:50:48.121106Z",
     "shell.execute_reply": "2025-01-12T08:50:48.119940Z"
    },
    "papermill": {
     "duration": 1.599105,
     "end_time": "2025-01-12T08:50:48.122792",
     "exception": false,
     "start_time": "2025-01-12T08:50:46.523687",
     "status": "completed"
    },
    "tags": []
   },
   "outputs": [
    {
     "name": "stdout",
     "output_type": "stream",
     "text": [
      "{\n",
      "  \"Arabic\": \"راسه مربع\",\n",
      "  \"Intended\": \"stubborn, thick-headed\",\n",
      "  \"Literal\": \"his head is square\"\n",
      "}\n"
     ]
    }
   ],
   "source": [
    "# initialize model\n",
    "model = genai.GenerativeModel(\n",
    "  model_name=\"gemini-2.0-flash-exp\",\n",
    "  generation_config=generation_config,\n",
    "  system_instruction=sys_instruction,\n",
    ")\n",
    "\n",
    "# test\n",
    "prompt = \"Generate examples of slang, idioms, or technical phrases in Arabic that may lead to inaccurate translation into English. Include the Arabic phrase, its literal English translation, the intended meaning.\"\n",
    "response = model.generate_content(prompt)\n",
    "print(response.text)"
   ]
  },
  {
   "cell_type": "code",
   "execution_count": 4,
   "id": "fa48c226",
   "metadata": {
    "execution": {
     "iopub.execute_input": "2025-01-12T08:50:48.128854Z",
     "iopub.status.busy": "2025-01-12T08:50:48.128526Z",
     "iopub.status.idle": "2025-01-12T08:50:48.133620Z",
     "shell.execute_reply": "2025-01-12T08:50:48.132589Z"
    },
    "papermill": {
     "duration": 0.009915,
     "end_time": "2025-01-12T08:50:48.135249",
     "exception": false,
     "start_time": "2025-01-12T08:50:48.125334",
     "status": "completed"
    },
    "tags": []
   },
   "outputs": [],
   "source": [
    "# generate synthetic data\n",
    "import json\n",
    "\n",
    "Arabic = []\n",
    "English = []\n",
    "\n",
    "def generate_data(prompt):\n",
    "    for i in range(8):\n",
    "        response = model.generate_content(\"prompt\")\n",
    "        response = json.loads(response.text)\n",
    "        Arabic.append(response['Arabic'])\n",
    "        English.append(response['Intended'])"
   ]
  },
  {
   "cell_type": "code",
   "execution_count": 5,
   "id": "5cca486b",
   "metadata": {
    "execution": {
     "iopub.execute_input": "2025-01-12T08:50:48.141144Z",
     "iopub.status.busy": "2025-01-12T08:50:48.140853Z",
     "iopub.status.idle": "2025-01-12T09:04:01.238324Z",
     "shell.execute_reply": "2025-01-12T09:04:01.237406Z"
    },
    "papermill": {
     "duration": 793.102449,
     "end_time": "2025-01-12T09:04:01.240281",
     "exception": false,
     "start_time": "2025-01-12T08:50:48.137832",
     "status": "completed"
    },
    "tags": []
   },
   "outputs": [],
   "source": [
    "# create interval to avoid API quota limitiations\n",
    "import time\n",
    "time.sleep(65)\n",
    "\n",
    "for _ in range(10):\n",
    "    generate_data(\"prompt\")\n",
    "    time.sleep(65)"
   ]
  },
  {
   "cell_type": "code",
   "execution_count": 6,
   "id": "e4b7d86f",
   "metadata": {
    "execution": {
     "iopub.execute_input": "2025-01-12T09:04:01.247193Z",
     "iopub.status.busy": "2025-01-12T09:04:01.246874Z",
     "iopub.status.idle": "2025-01-12T09:04:01.254831Z",
     "shell.execute_reply": "2025-01-12T09:04:01.253812Z"
    },
    "papermill": {
     "duration": 0.013383,
     "end_time": "2025-01-12T09:04:01.256750",
     "exception": false,
     "start_time": "2025-01-12T09:04:01.243367",
     "status": "completed"
    },
    "tags": []
   },
   "outputs": [
    {
     "name": "stdout",
     "output_type": "stream",
     "text": [
      "**************************************************\n",
      "The lenth of the data:\n",
      "80\n",
      "**************************************************\n",
      "Example:\n",
      "English: hello\n",
      "Arabic: مرحبا\n"
     ]
    }
   ],
   "source": [
    "# print the result\n",
    "print(\"*\" * 50)\n",
    "print(\"The lenth of the data:\")\n",
    "print(len(English))\n",
    "\n",
    "print(\"*\" * 50)\n",
    "print(\"Example:\")\n",
    "print(\"English:\", English[18])\n",
    "print(\"Arabic:\", Arabic[10])"
   ]
  },
  {
   "cell_type": "code",
   "execution_count": 7,
   "id": "6e3c1aae",
   "metadata": {
    "execution": {
     "iopub.execute_input": "2025-01-12T09:04:01.263613Z",
     "iopub.status.busy": "2025-01-12T09:04:01.263216Z",
     "iopub.status.idle": "2025-01-12T09:04:01.704741Z",
     "shell.execute_reply": "2025-01-12T09:04:01.703812Z"
    },
    "papermill": {
     "duration": 0.447171,
     "end_time": "2025-01-12T09:04:01.706659",
     "exception": false,
     "start_time": "2025-01-12T09:04:01.259488",
     "status": "completed"
    },
    "tags": []
   },
   "outputs": [],
   "source": [
    "# save as .csv file\n",
    "import pandas as pd\n",
    "df = pd.DataFrame({\"English\" : English, \"Arabic\" : Arabic})\n",
    "df.to_csv(\"syntheticData.csv\", index=False)"
   ]
  }
 ],
 "metadata": {
  "kaggle": {
   "accelerator": "none",
   "dataSources": [],
   "dockerImageVersionId": 30822,
   "isGpuEnabled": false,
   "isInternetEnabled": true,
   "language": "python",
   "sourceType": "notebook"
  },
  "kernelspec": {
   "display_name": "Python 3",
   "language": "python",
   "name": "python3"
  },
  "language_info": {
   "codemirror_mode": {
    "name": "ipython",
    "version": 3
   },
   "file_extension": ".py",
   "mimetype": "text/x-python",
   "name": "python",
   "nbconvert_exporter": "python",
   "pygments_lexer": "ipython3",
   "version": "3.10.12"
  },
  "papermill": {
   "default_parameters": {},
   "duration": 800.138509,
   "end_time": "2025-01-12T09:04:02.431395",
   "environment_variables": {},
   "exception": null,
   "input_path": "__notebook__.ipynb",
   "output_path": "__notebook__.ipynb",
   "parameters": {},
   "start_time": "2025-01-12T08:50:42.292886",
   "version": "2.6.0"
  }
 },
 "nbformat": 4,
 "nbformat_minor": 5
}
