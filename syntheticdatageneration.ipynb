{
 "cells": [
  {
   "cell_type": "code",
   "execution_count": 1,
   "id": "52cfadce",
   "metadata": {
    "_cell_guid": "b1076dfc-b9ad-4769-8c92-a6c4dae69d19",
    "_uuid": "8f2839f25d086af736a60e9eeb907d3b93b6e0e5",
    "execution": {
     "iopub.execute_input": "2025-01-11T08:28:23.648639Z",
     "iopub.status.busy": "2025-01-11T08:28:23.648231Z",
     "iopub.status.idle": "2025-01-11T08:28:25.166452Z",
     "shell.execute_reply": "2025-01-11T08:28:25.165277Z"
    },
    "papermill": {
     "duration": 1.523724,
     "end_time": "2025-01-11T08:28:25.168449",
     "exception": false,
     "start_time": "2025-01-11T08:28:23.644725",
     "status": "completed"
    },
    "tags": []
   },
   "outputs": [],
   "source": [
    "# configuration for using Gemini API\n",
    "import google.generativeai as genai\n",
    "from google.ai.generativelanguage_v1beta.types import content\n",
    "from kaggle_secrets import UserSecretsClient\n",
    "\n",
    "user_secrets = UserSecretsClient()\n",
    "gemini_token = user_secrets.get_secret(\"GEMINI_API\")\n",
    "genai.configure(api_key=gemini_token)"
   ]
  },
  {
   "cell_type": "code",
   "execution_count": 2,
   "id": "963d56b4",
   "metadata": {
    "execution": {
     "iopub.execute_input": "2025-01-11T08:28:25.174195Z",
     "iopub.status.busy": "2025-01-11T08:28:25.173592Z",
     "iopub.status.idle": "2025-01-11T08:28:25.179256Z",
     "shell.execute_reply": "2025-01-11T08:28:25.178266Z"
    },
    "papermill": {
     "duration": 0.009975,
     "end_time": "2025-01-11T08:28:25.180953",
     "exception": false,
     "start_time": "2025-01-11T08:28:25.170978",
     "status": "completed"
    },
    "tags": []
   },
   "outputs": [],
   "source": [
    "# instruction and format configuration\n",
    "sys_instruction = \"Your task is to generate a list of sentences in both Arabic and English that could potentially cause confusion or misinterpretation for individuals unfamiliar with these languages. Focus on creating examples from the domains of medical and engineering. \"\n",
    "\n",
    "generation_config = {\n",
    "  \"temperature\": 1,\n",
    "  \"top_p\": 0.95,\n",
    "  \"response_schema\": content.Schema(\n",
    "    type = content.Type.OBJECT,\n",
    "    required = [\"Arabic\", \"English\"],\n",
    "    properties = {\n",
    "      \"Arabic\": content.Schema(\n",
    "        type = content.Type.STRING,\n",
    "      ),\n",
    "      \"English\": content.Schema(\n",
    "        type = content.Type.STRING,\n",
    "      ),\n",
    "    },\n",
    "  ),\n",
    "  \"response_mime_type\": \"application/json\",\n",
    "}"
   ]
  },
  {
   "cell_type": "code",
   "execution_count": 3,
   "id": "912ff132",
   "metadata": {
    "execution": {
     "iopub.execute_input": "2025-01-11T08:28:25.186046Z",
     "iopub.status.busy": "2025-01-11T08:28:25.185657Z",
     "iopub.status.idle": "2025-01-11T08:28:26.460835Z",
     "shell.execute_reply": "2025-01-11T08:28:26.459563Z"
    },
    "papermill": {
     "duration": 1.279577,
     "end_time": "2025-01-11T08:28:26.462547",
     "exception": false,
     "start_time": "2025-01-11T08:28:25.182970",
     "status": "completed"
    },
    "tags": []
   },
   "outputs": [
    {
     "name": "stdout",
     "output_type": "stream",
     "text": [
      "{\n",
      "  \"Arabic\": \"أجريت العملية على المريض وهو مستلق على بطنه\",\n",
      "  \"English\": \"The operation was performed on the patient while he was lying on his stomach.\"\n",
      "}\n"
     ]
    }
   ],
   "source": [
    "# initialize model\n",
    "model = genai.GenerativeModel(\n",
    "  model_name=\"gemini-2.0-flash-exp\",\n",
    "  generation_config=generation_config,\n",
    "  system_instruction=sys_instruction,\n",
    ")\n",
    "\n",
    "response = model.generate_content(\"Generate\")\n",
    "print(response.text)"
   ]
  },
  {
   "cell_type": "code",
   "execution_count": null,
   "id": "f057a6fc",
   "metadata": {
    "papermill": {
     "duration": 0.001553,
     "end_time": "2025-01-11T08:28:26.466264",
     "exception": false,
     "start_time": "2025-01-11T08:28:26.464711",
     "status": "completed"
    },
    "tags": []
   },
   "outputs": [],
   "source": []
  }
 ],
 "metadata": {
  "kaggle": {
   "accelerator": "none",
   "dataSources": [],
   "dockerImageVersionId": 30822,
   "isGpuEnabled": false,
   "isInternetEnabled": true,
   "language": "python",
   "sourceType": "notebook"
  },
  "kernelspec": {
   "display_name": "Python 3",
   "language": "python",
   "name": "python3"
  },
  "language_info": {
   "codemirror_mode": {
    "name": "ipython",
    "version": 3
   },
   "file_extension": ".py",
   "mimetype": "text/x-python",
   "name": "python",
   "nbconvert_exporter": "python",
   "pygments_lexer": "ipython3",
   "version": "3.10.12"
  },
  "papermill": {
   "default_parameters": {},
   "duration": 6.235277,
   "end_time": "2025-01-11T08:28:27.088383",
   "environment_variables": {},
   "exception": null,
   "input_path": "__notebook__.ipynb",
   "output_path": "__notebook__.ipynb",
   "parameters": {},
   "start_time": "2025-01-11T08:28:20.853106",
   "version": "2.6.0"
  }
 },
 "nbformat": 4,
 "nbformat_minor": 5
}
