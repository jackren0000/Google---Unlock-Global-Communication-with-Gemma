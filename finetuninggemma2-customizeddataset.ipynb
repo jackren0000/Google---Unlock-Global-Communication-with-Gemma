{
 "cells": [
  {
   "cell_type": "markdown",
   "id": "d9d19398",
   "metadata": {
    "papermill": {
     "duration": 0.004232,
     "end_time": "2025-01-11T06:19:08.442345",
     "exception": false,
     "start_time": "2025-01-11T06:19:08.438113",
     "status": "completed"
    },
    "tags": []
   },
   "source": [
    "## Introduction"
   ]
  },
  {
   "cell_type": "markdown",
   "id": "8cc86708",
   "metadata": {
    "papermill": {
     "duration": 0.003351,
     "end_time": "2025-01-11T06:19:08.449424",
     "exception": false,
     "start_time": "2025-01-11T06:19:08.446073",
     "status": "completed"
    },
    "tags": []
   },
   "source": [
    "The ongoing war between Israel and Hamas since October 7, 2023, has resulted in a devastating humanitarian crisis. More than 45,000 Palestinians have died. The lack of access to essential services, including clean water, electricity and medical care, has caused immense human suffering.\n",
    "\n",
    "In order to help humanitarian workers and facilitate coordination in the impacted areas, there is an urgent need for **effective**, **low-cost** communication tool."
   ]
  },
  {
   "cell_type": "markdown",
   "id": "61aceda1",
   "metadata": {
    "papermill": {
     "duration": 0.003265,
     "end_time": "2025-01-11T06:19:08.456143",
     "exception": false,
     "start_time": "2025-01-11T06:19:08.452878",
     "status": "completed"
    },
    "tags": []
   },
   "source": [
    "## Objective"
   ]
  },
  {
   "cell_type": "markdown",
   "id": "7ba88db4",
   "metadata": {
    "papermill": {
     "duration": 0.003306,
     "end_time": "2025-01-11T06:19:08.463171",
     "exception": false,
     "start_time": "2025-01-11T06:19:08.459865",
     "status": "completed"
    },
    "tags": []
   },
   "source": [
    "The notebook aims to fine-tune Gemma model with two primary objective:\n",
    "1. Improving its proficiency in Arabic, providing high-quality outputs.\n",
    "2. Enhancing its translation capabilities between English and Arabic, specifically in the medical and engineering domains.\n",
    "\n",
    "The pre-trained foundation model, **Gemma 2 - 2B** has been chosen, leveraging **low-rank adaptation (LoRA)** techinque to create low-cost, fast inference communication tool."
   ]
  },
  {
   "cell_type": "markdown",
   "id": "91cfab7f",
   "metadata": {
    "papermill": {
     "duration": 0.003335,
     "end_time": "2025-01-11T06:19:08.469965",
     "exception": false,
     "start_time": "2025-01-11T06:19:08.466630",
     "status": "completed"
    },
    "tags": []
   },
   "source": [
    "## Dataset"
   ]
  },
  {
   "cell_type": "markdown",
   "id": "efe85122",
   "metadata": {
    "papermill": {
     "duration": 0.003287,
     "end_time": "2025-01-11T06:19:08.476799",
     "exception": false,
     "start_time": "2025-01-11T06:19:08.473512",
     "status": "completed"
    },
    "tags": []
   },
   "source": [
    "The first dataset chosen to improve Gemma 2’s proficiency in Arabic is **CIDAR**, provided by the Arabic Machine Learning non-profit group on Hugging Face. CIDAR is a culturally relevant instruction dataset which contains 10,000 instructions and outputs, licensed to use for research purpose.\n",
    "\n",
    "The second dataset is designed to use for fine-tuning translation in spefic areas (medical and engineering), there is not specific dataset exist, so I need to create one myself, so this is also called distillation."
   ]
  },
  {
   "cell_type": "markdown",
   "id": "c8cce828",
   "metadata": {
    "papermill": {
     "duration": 0.003311,
     "end_time": "2025-01-11T06:19:08.483588",
     "exception": false,
     "start_time": "2025-01-11T06:19:08.480277",
     "status": "completed"
    },
    "tags": []
   },
   "source": [
    "## Preconfiguration"
   ]
  },
  {
   "cell_type": "code",
   "execution_count": 1,
   "id": "7e6824c1",
   "metadata": {
    "execution": {
     "iopub.execute_input": "2025-01-11T06:19:08.491345Z",
     "iopub.status.busy": "2025-01-11T06:19:08.491126Z",
     "iopub.status.idle": "2025-01-11T06:19:08.662979Z",
     "shell.execute_reply": "2025-01-11T06:19:08.662164Z"
    },
    "papermill": {
     "duration": 0.177246,
     "end_time": "2025-01-11T06:19:08.664295",
     "exception": false,
     "start_time": "2025-01-11T06:19:08.487049",
     "status": "completed"
    },
    "tags": []
   },
   "outputs": [
    {
     "name": "stdout",
     "output_type": "stream",
     "text": [
      "Sat Jan 11 06:19:08 2025       \r\n",
      "+-----------------------------------------------------------------------------------------+\r\n",
      "| NVIDIA-SMI 560.35.03              Driver Version: 560.35.03      CUDA Version: 12.6     |\r\n",
      "|-----------------------------------------+------------------------+----------------------+\r\n",
      "| GPU  Name                 Persistence-M | Bus-Id          Disp.A | Volatile Uncorr. ECC |\r\n",
      "| Fan  Temp   Perf          Pwr:Usage/Cap |           Memory-Usage | GPU-Util  Compute M. |\r\n",
      "|                                         |                        |               MIG M. |\r\n",
      "|=========================================+========================+======================|\r\n",
      "|   0  Tesla P100-PCIE-16GB           Off |   00000000:00:04.0 Off |                    0 |\r\n",
      "| N/A   35C    P0             26W /  250W |       0MiB /  16384MiB |      0%      Default |\r\n",
      "|                                         |                        |                  N/A |\r\n",
      "+-----------------------------------------+------------------------+----------------------+\r\n",
      "                                                                                         \r\n",
      "+-----------------------------------------------------------------------------------------+\r\n",
      "| Processes:                                                                              |\r\n",
      "|  GPU   GI   CI        PID   Type   Process name                              GPU Memory |\r\n",
      "|        ID   ID                                                               Usage      |\r\n",
      "|=========================================================================================|\r\n",
      "|  No running processes found                                                             |\r\n",
      "+-----------------------------------------------------------------------------------------+\r\n"
     ]
    }
   ],
   "source": [
    "!nvidia-smi"
   ]
  },
  {
   "cell_type": "code",
   "execution_count": 2,
   "id": "14102759",
   "metadata": {
    "_cell_guid": "b1076dfc-b9ad-4769-8c92-a6c4dae69d19",
    "_uuid": "8f2839f25d086af736a60e9eeb907d3b93b6e0e5",
    "execution": {
     "iopub.execute_input": "2025-01-11T06:19:08.672713Z",
     "iopub.status.busy": "2025-01-11T06:19:08.672436Z",
     "iopub.status.idle": "2025-01-11T06:19:18.664713Z",
     "shell.execute_reply": "2025-01-11T06:19:18.663602Z"
    },
    "papermill": {
     "duration": 9.998221,
     "end_time": "2025-01-11T06:19:18.666392",
     "exception": false,
     "start_time": "2025-01-11T06:19:08.668171",
     "status": "completed"
    },
    "tags": []
   },
   "outputs": [
    {
     "name": "stdout",
     "output_type": "stream",
     "text": [
      "\u001b[2K   \u001b[90m━━━━━━━━━━━━━━━━━━━━━━━━━━━━━━━━━━━━━━━━\u001b[0m \u001b[32m1.3/1.3 MB\u001b[0m \u001b[31m22.7 MB/s\u001b[0m eta \u001b[36m0:00:00\u001b[0m\r\n",
      "\u001b[?25h"
     ]
    }
   ],
   "source": [
    "# install packages\n",
    "!pip install -q -U keras-nlp datasets\n",
    "!pip install -q -U keras"
   ]
  },
  {
   "cell_type": "code",
   "execution_count": 3,
   "id": "23db777d",
   "metadata": {
    "execution": {
     "iopub.execute_input": "2025-01-11T06:19:18.675683Z",
     "iopub.status.busy": "2025-01-11T06:19:18.675376Z",
     "iopub.status.idle": "2025-01-11T06:19:28.612164Z",
     "shell.execute_reply": "2025-01-11T06:19:28.611501Z"
    },
    "papermill": {
     "duration": 9.942965,
     "end_time": "2025-01-11T06:19:28.613676",
     "exception": false,
     "start_time": "2025-01-11T06:19:18.670711",
     "status": "completed"
    },
    "tags": []
   },
   "outputs": [],
   "source": [
    "# load libraries\n",
    "import keras\n",
    "import keras_nlp\n",
    "import time\n",
    "import os\n",
    "import matplotlib.pyplot as plt\n",
    "from datasets import load_dataset"
   ]
  },
  {
   "cell_type": "code",
   "execution_count": 4,
   "id": "11be12b9",
   "metadata": {
    "execution": {
     "iopub.execute_input": "2025-01-11T06:19:28.622945Z",
     "iopub.status.busy": "2025-01-11T06:19:28.622432Z",
     "iopub.status.idle": "2025-01-11T06:19:28.626605Z",
     "shell.execute_reply": "2025-01-11T06:19:28.625823Z"
    },
    "papermill": {
     "duration": 0.009862,
     "end_time": "2025-01-11T06:19:28.627862",
     "exception": false,
     "start_time": "2025-01-11T06:19:28.618000",
     "status": "completed"
    },
    "tags": []
   },
   "outputs": [],
   "source": [
    "# configure environment\n",
    "\n",
    "# operating system environment\n",
    "os.environ[\"KERAS_BACKEND\"] = \"jax\"\n",
    "os.environ[\"XLA_PYTHON_CLIENT_MEM_FRACTION\"] = \"1.00\"\n",
    "\n",
    "# training environment\n",
    "token_length_limit = 256\n",
    "data_length_limit = 300\n",
    "lora_name = \"arbml_CIDAR\"\n",
    "lora_rank = 4\n",
    "learning_rate = 4e-5\n",
    "num_epochs = 20\n",
    "model_id = \"gemma2_instruct_2b_en\"\n",
    "batch_size = 1"
   ]
  },
  {
   "cell_type": "markdown",
   "id": "5f565e14",
   "metadata": {
    "papermill": {
     "duration": 0.003646,
     "end_time": "2025-01-11T06:19:28.635413",
     "exception": false,
     "start_time": "2025-01-11T06:19:28.631767",
     "status": "completed"
    },
    "tags": []
   },
   "source": [
    "## Model Initialization"
   ]
  },
  {
   "cell_type": "code",
   "execution_count": 5,
   "id": "b2b5739b",
   "metadata": {
    "execution": {
     "iopub.execute_input": "2025-01-11T06:19:28.643667Z",
     "iopub.status.busy": "2025-01-11T06:19:28.643396Z",
     "iopub.status.idle": "2025-01-11T06:20:22.309529Z",
     "shell.execute_reply": "2025-01-11T06:20:22.308701Z"
    },
    "papermill": {
     "duration": 53.671979,
     "end_time": "2025-01-11T06:20:22.311088",
     "exception": false,
     "start_time": "2025-01-11T06:19:28.639109",
     "status": "completed"
    },
    "tags": []
   },
   "outputs": [
    {
     "data": {
      "text/html": [
       "<pre style=\"white-space:pre;overflow-x:auto;line-height:normal;font-family:Menlo,'DejaVu Sans Mono',consolas,'Courier New',monospace\"><span style=\"font-weight: bold\">Preprocessor: \"gemma_causal_lm_preprocessor\"</span>\n",
       "</pre>\n"
      ],
      "text/plain": [
       "\u001b[1mPreprocessor: \"gemma_causal_lm_preprocessor\"\u001b[0m\n"
      ]
     },
     "metadata": {},
     "output_type": "display_data"
    },
    {
     "data": {
      "text/html": [
       "<pre style=\"white-space:pre;overflow-x:auto;line-height:normal;font-family:Menlo,'DejaVu Sans Mono',consolas,'Courier New',monospace\">┏━━━━━━━━━━━━━━━━━━━━━━━━━━━━━━━━━━━━━━━━━━━━━━━━━━━━━━━━━━━━━━━┳━━━━━━━━━━━━━━━━━━━━━━━━━━━━━━━━━━━━━━━━━━┓\n",
       "┃<span style=\"font-weight: bold\"> Layer (type)                                                  </span>┃<span style=\"font-weight: bold\">                                   Config </span>┃\n",
       "┡━━━━━━━━━━━━━━━━━━━━━━━━━━━━━━━━━━━━━━━━━━━━━━━━━━━━━━━━━━━━━━━╇━━━━━━━━━━━━━━━━━━━━━━━━━━━━━━━━━━━━━━━━━━┩\n",
       "│ gemma_tokenizer (<span style=\"color: #0087ff; text-decoration-color: #0087ff\">GemmaTokenizer</span>)                              │                      Vocab size: <span style=\"color: #00af00; text-decoration-color: #00af00\">256,000</span> │\n",
       "└───────────────────────────────────────────────────────────────┴──────────────────────────────────────────┘\n",
       "</pre>\n"
      ],
      "text/plain": [
       "┏━━━━━━━━━━━━━━━━━━━━━━━━━━━━━━━━━━━━━━━━━━━━━━━━━━━━━━━━━━━━━━━┳━━━━━━━━━━━━━━━━━━━━━━━━━━━━━━━━━━━━━━━━━━┓\n",
       "┃\u001b[1m \u001b[0m\u001b[1mLayer (type)                                                 \u001b[0m\u001b[1m \u001b[0m┃\u001b[1m \u001b[0m\u001b[1m                                  Config\u001b[0m\u001b[1m \u001b[0m┃\n",
       "┡━━━━━━━━━━━━━━━━━━━━━━━━━━━━━━━━━━━━━━━━━━━━━━━━━━━━━━━━━━━━━━━╇━━━━━━━━━━━━━━━━━━━━━━━━━━━━━━━━━━━━━━━━━━┩\n",
       "│ gemma_tokenizer (\u001b[38;5;33mGemmaTokenizer\u001b[0m)                              │                      Vocab size: \u001b[38;5;34m256,000\u001b[0m │\n",
       "└───────────────────────────────────────────────────────────────┴──────────────────────────────────────────┘\n"
      ]
     },
     "metadata": {},
     "output_type": "display_data"
    },
    {
     "data": {
      "text/html": [
       "<pre style=\"white-space:pre;overflow-x:auto;line-height:normal;font-family:Menlo,'DejaVu Sans Mono',consolas,'Courier New',monospace\"><span style=\"font-weight: bold\">Model: \"gemma_causal_lm\"</span>\n",
       "</pre>\n"
      ],
      "text/plain": [
       "\u001b[1mModel: \"gemma_causal_lm\"\u001b[0m\n"
      ]
     },
     "metadata": {},
     "output_type": "display_data"
    },
    {
     "data": {
      "text/html": [
       "<pre style=\"white-space:pre;overflow-x:auto;line-height:normal;font-family:Menlo,'DejaVu Sans Mono',consolas,'Courier New',monospace\">┏━━━━━━━━━━━━━━━━━━━━━━━━━━━━━━━┳━━━━━━━━━━━━━━━━━━━━━━━━━━━┳━━━━━━━━━━━━━━━━━┳━━━━━━━━━━━━━━━━━━━━━━━━━━━━┓\n",
       "┃<span style=\"font-weight: bold\"> Layer (type)                  </span>┃<span style=\"font-weight: bold\"> Output Shape              </span>┃<span style=\"font-weight: bold\">         Param # </span>┃<span style=\"font-weight: bold\"> Connected to               </span>┃\n",
       "┡━━━━━━━━━━━━━━━━━━━━━━━━━━━━━━━╇━━━━━━━━━━━━━━━━━━━━━━━━━━━╇━━━━━━━━━━━━━━━━━╇━━━━━━━━━━━━━━━━━━━━━━━━━━━━┩\n",
       "│ padding_mask (<span style=\"color: #0087ff; text-decoration-color: #0087ff\">InputLayer</span>)     │ (<span style=\"color: #00d7ff; text-decoration-color: #00d7ff\">None</span>, <span style=\"color: #00d7ff; text-decoration-color: #00d7ff\">None</span>)              │               <span style=\"color: #00af00; text-decoration-color: #00af00\">0</span> │ -                          │\n",
       "├───────────────────────────────┼───────────────────────────┼─────────────────┼────────────────────────────┤\n",
       "│ token_ids (<span style=\"color: #0087ff; text-decoration-color: #0087ff\">InputLayer</span>)        │ (<span style=\"color: #00d7ff; text-decoration-color: #00d7ff\">None</span>, <span style=\"color: #00d7ff; text-decoration-color: #00d7ff\">None</span>)              │               <span style=\"color: #00af00; text-decoration-color: #00af00\">0</span> │ -                          │\n",
       "├───────────────────────────────┼───────────────────────────┼─────────────────┼────────────────────────────┤\n",
       "│ gemma_backbone                │ (<span style=\"color: #00d7ff; text-decoration-color: #00d7ff\">None</span>, <span style=\"color: #00d7ff; text-decoration-color: #00d7ff\">None</span>, <span style=\"color: #00af00; text-decoration-color: #00af00\">2304</span>)        │   <span style=\"color: #00af00; text-decoration-color: #00af00\">2,614,341,888</span> │ padding_mask[<span style=\"color: #00af00; text-decoration-color: #00af00\">0</span>][<span style=\"color: #00af00; text-decoration-color: #00af00\">0</span>],        │\n",
       "│ (<span style=\"color: #0087ff; text-decoration-color: #0087ff\">GemmaBackbone</span>)               │                           │                 │ token_ids[<span style=\"color: #00af00; text-decoration-color: #00af00\">0</span>][<span style=\"color: #00af00; text-decoration-color: #00af00\">0</span>]            │\n",
       "├───────────────────────────────┼───────────────────────────┼─────────────────┼────────────────────────────┤\n",
       "│ token_embedding               │ (<span style=\"color: #00d7ff; text-decoration-color: #00d7ff\">None</span>, <span style=\"color: #00d7ff; text-decoration-color: #00d7ff\">None</span>, <span style=\"color: #00af00; text-decoration-color: #00af00\">256000</span>)      │     <span style=\"color: #00af00; text-decoration-color: #00af00\">589,824,000</span> │ gemma_backbone[<span style=\"color: #00af00; text-decoration-color: #00af00\">0</span>][<span style=\"color: #00af00; text-decoration-color: #00af00\">0</span>]       │\n",
       "│ (<span style=\"color: #0087ff; text-decoration-color: #0087ff\">ReversibleEmbedding</span>)         │                           │                 │                            │\n",
       "└───────────────────────────────┴───────────────────────────┴─────────────────┴────────────────────────────┘\n",
       "</pre>\n"
      ],
      "text/plain": [
       "┏━━━━━━━━━━━━━━━━━━━━━━━━━━━━━━━┳━━━━━━━━━━━━━━━━━━━━━━━━━━━┳━━━━━━━━━━━━━━━━━┳━━━━━━━━━━━━━━━━━━━━━━━━━━━━┓\n",
       "┃\u001b[1m \u001b[0m\u001b[1mLayer (type)                 \u001b[0m\u001b[1m \u001b[0m┃\u001b[1m \u001b[0m\u001b[1mOutput Shape             \u001b[0m\u001b[1m \u001b[0m┃\u001b[1m \u001b[0m\u001b[1m        Param #\u001b[0m\u001b[1m \u001b[0m┃\u001b[1m \u001b[0m\u001b[1mConnected to              \u001b[0m\u001b[1m \u001b[0m┃\n",
       "┡━━━━━━━━━━━━━━━━━━━━━━━━━━━━━━━╇━━━━━━━━━━━━━━━━━━━━━━━━━━━╇━━━━━━━━━━━━━━━━━╇━━━━━━━━━━━━━━━━━━━━━━━━━━━━┩\n",
       "│ padding_mask (\u001b[38;5;33mInputLayer\u001b[0m)     │ (\u001b[38;5;45mNone\u001b[0m, \u001b[38;5;45mNone\u001b[0m)              │               \u001b[38;5;34m0\u001b[0m │ -                          │\n",
       "├───────────────────────────────┼───────────────────────────┼─────────────────┼────────────────────────────┤\n",
       "│ token_ids (\u001b[38;5;33mInputLayer\u001b[0m)        │ (\u001b[38;5;45mNone\u001b[0m, \u001b[38;5;45mNone\u001b[0m)              │               \u001b[38;5;34m0\u001b[0m │ -                          │\n",
       "├───────────────────────────────┼───────────────────────────┼─────────────────┼────────────────────────────┤\n",
       "│ gemma_backbone                │ (\u001b[38;5;45mNone\u001b[0m, \u001b[38;5;45mNone\u001b[0m, \u001b[38;5;34m2304\u001b[0m)        │   \u001b[38;5;34m2,614,341,888\u001b[0m │ padding_mask[\u001b[38;5;34m0\u001b[0m][\u001b[38;5;34m0\u001b[0m],        │\n",
       "│ (\u001b[38;5;33mGemmaBackbone\u001b[0m)               │                           │                 │ token_ids[\u001b[38;5;34m0\u001b[0m][\u001b[38;5;34m0\u001b[0m]            │\n",
       "├───────────────────────────────┼───────────────────────────┼─────────────────┼────────────────────────────┤\n",
       "│ token_embedding               │ (\u001b[38;5;45mNone\u001b[0m, \u001b[38;5;45mNone\u001b[0m, \u001b[38;5;34m256000\u001b[0m)      │     \u001b[38;5;34m589,824,000\u001b[0m │ gemma_backbone[\u001b[38;5;34m0\u001b[0m][\u001b[38;5;34m0\u001b[0m]       │\n",
       "│ (\u001b[38;5;33mReversibleEmbedding\u001b[0m)         │                           │                 │                            │\n",
       "└───────────────────────────────┴───────────────────────────┴─────────────────┴────────────────────────────┘\n"
      ]
     },
     "metadata": {},
     "output_type": "display_data"
    },
    {
     "data": {
      "text/html": [
       "<pre style=\"white-space:pre;overflow-x:auto;line-height:normal;font-family:Menlo,'DejaVu Sans Mono',consolas,'Courier New',monospace\"><span style=\"font-weight: bold\"> Total params: </span><span style=\"color: #00af00; text-decoration-color: #00af00\">2,614,341,888</span> (9.74 GB)\n",
       "</pre>\n"
      ],
      "text/plain": [
       "\u001b[1m Total params: \u001b[0m\u001b[38;5;34m2,614,341,888\u001b[0m (9.74 GB)\n"
      ]
     },
     "metadata": {},
     "output_type": "display_data"
    },
    {
     "data": {
      "text/html": [
       "<pre style=\"white-space:pre;overflow-x:auto;line-height:normal;font-family:Menlo,'DejaVu Sans Mono',consolas,'Courier New',monospace\"><span style=\"font-weight: bold\"> Trainable params: </span><span style=\"color: #00af00; text-decoration-color: #00af00\">2,614,341,888</span> (9.74 GB)\n",
       "</pre>\n"
      ],
      "text/plain": [
       "\u001b[1m Trainable params: \u001b[0m\u001b[38;5;34m2,614,341,888\u001b[0m (9.74 GB)\n"
      ]
     },
     "metadata": {},
     "output_type": "display_data"
    },
    {
     "data": {
      "text/html": [
       "<pre style=\"white-space:pre;overflow-x:auto;line-height:normal;font-family:Menlo,'DejaVu Sans Mono',consolas,'Courier New',monospace\"><span style=\"font-weight: bold\"> Non-trainable params: </span><span style=\"color: #00af00; text-decoration-color: #00af00\">0</span> (0.00 B)\n",
       "</pre>\n"
      ],
      "text/plain": [
       "\u001b[1m Non-trainable params: \u001b[0m\u001b[38;5;34m0\u001b[0m (0.00 B)\n"
      ]
     },
     "metadata": {},
     "output_type": "display_data"
    }
   ],
   "source": [
    "# load Gemma model\n",
    "gemma_lm = keras_nlp.models.GemmaCausalLM.from_preset(model_id)\n",
    "gemma_lm.summary()"
   ]
  },
  {
   "cell_type": "code",
   "execution_count": 6,
   "id": "b8a4ab90",
   "metadata": {
    "execution": {
     "iopub.execute_input": "2025-01-11T06:20:22.321162Z",
     "iopub.status.busy": "2025-01-11T06:20:22.320934Z",
     "iopub.status.idle": "2025-01-11T06:20:22.325159Z",
     "shell.execute_reply": "2025-01-11T06:20:22.324495Z"
    },
    "papermill": {
     "duration": 0.010658,
     "end_time": "2025-01-11T06:20:22.326435",
     "exception": false,
     "start_time": "2025-01-11T06:20:22.315777",
     "status": "completed"
    },
    "tags": []
   },
   "outputs": [],
   "source": [
    "# functions for Gemma model\n",
    "tick_start = 0\n",
    "def tick():\n",
    "    global tick_start\n",
    "    tick_start = time.time()\n",
    "\n",
    "def tock():\n",
    "    print(f\"Total time elapsed: {time.time() - tick_start}s\")\n",
    "\n",
    "def text_gen(prompt):\n",
    "    tick()\n",
    "    input = f\"<start_of_turn>user\\n{prompt}<end_of_turn>\\n<start_of_turn>model\\n\"\n",
    "    output = gemma_lm.generate(input, max_length=token_length_limit)\n",
    "    print(\"\\nGemma Output:\")\n",
    "    print(output)\n",
    "    tock()"
   ]
  },
  {
   "cell_type": "code",
   "execution_count": 7,
   "id": "43efa10a",
   "metadata": {
    "execution": {
     "iopub.execute_input": "2025-01-11T06:20:22.336417Z",
     "iopub.status.busy": "2025-01-11T06:20:22.336206Z",
     "iopub.status.idle": "2025-01-11T06:20:57.579154Z",
     "shell.execute_reply": "2025-01-11T06:20:57.578287Z"
    },
    "papermill": {
     "duration": 35.254603,
     "end_time": "2025-01-11T06:20:57.585509",
     "exception": false,
     "start_time": "2025-01-11T06:20:22.330906",
     "status": "completed"
    },
    "tags": []
   },
   "outputs": [
    {
     "name": "stdout",
     "output_type": "stream",
     "text": [
      "\n",
      "Gemma Output:\n",
      "<start_of_turn>user\n",
      "Hi, nice to meet you! Introduce youself!<end_of_turn>\n",
      "<start_of_turn>model\n",
      "Hello! It's nice to meet you too. 😊 \n",
      "\n",
      "I'm Gemma, an AI assistant created by the Gemma team. I'm a large language model, which means I'm really good at understanding and generating text.  \n",
      "\n",
      "I can help you with things like:\n",
      "\n",
      "* **Answering your questions:**  I've been trained on a massive amount of text data, so I can provide information on a wide range of topics.\n",
      "* **Writing different kinds of creative content:**  I can help you write stories, poems, articles, and more.\n",
      "* **Summarizing text:**  Give me a long piece of writing, and I can give you a concise summary.\n",
      "* **Translating languages:**  I can translate text between many different languages.\n",
      "\n",
      "What can I do for you today? \n",
      "<end_of_turn>\n",
      "Total time elapsed: 35.239532232284546s\n"
     ]
    }
   ],
   "source": [
    "# inference test\n",
    "text_gen(\"Hi, nice to meet you! Introduce youself!\")"
   ]
  },
  {
   "cell_type": "markdown",
   "id": "e7e718b8",
   "metadata": {
    "papermill": {
     "duration": 0.004343,
     "end_time": "2025-01-11T06:20:57.594482",
     "exception": false,
     "start_time": "2025-01-11T06:20:57.590139",
     "status": "completed"
    },
    "tags": []
   },
   "source": [
    "## Loading Dataset"
   ]
  },
  {
   "cell_type": "code",
   "execution_count": 8,
   "id": "d8095170",
   "metadata": {
    "execution": {
     "iopub.execute_input": "2025-01-11T06:20:57.604367Z",
     "iopub.status.busy": "2025-01-11T06:20:57.604133Z",
     "iopub.status.idle": "2025-01-11T06:21:01.489962Z",
     "shell.execute_reply": "2025-01-11T06:21:01.489084Z"
    },
    "papermill": {
     "duration": 3.892333,
     "end_time": "2025-01-11T06:21:01.491247",
     "exception": false,
     "start_time": "2025-01-11T06:20:57.598914",
     "status": "completed"
    },
    "tags": []
   },
   "outputs": [
    {
     "data": {
      "application/vnd.jupyter.widget-view+json": {
       "model_id": "cb38db1400c94ab689ef2a4714645c4a",
       "version_major": 2,
       "version_minor": 0
      },
      "text/plain": [
       "README.md:   0%|          | 0.00/5.36k [00:00<?, ?B/s]"
      ]
     },
     "metadata": {},
     "output_type": "display_data"
    },
    {
     "data": {
      "application/vnd.jupyter.widget-view+json": {
       "model_id": "5575b6f68b4c4bd4b28bf347095c7230",
       "version_major": 2,
       "version_minor": 0
      },
      "text/plain": [
       "(…)-00000-of-00001-b2881e1b9f14c3b1.parquet:   0%|          | 0.00/3.55M [00:00<?, ?B/s]"
      ]
     },
     "metadata": {},
     "output_type": "display_data"
    },
    {
     "data": {
      "application/vnd.jupyter.widget-view+json": {
       "model_id": "54ae318be4804dc7aeb3671d429f4215",
       "version_major": 2,
       "version_minor": 0
      },
      "text/plain": [
       "Generating train split:   0%|          | 0/10000 [00:00<?, ? examples/s]"
      ]
     },
     "metadata": {},
     "output_type": "display_data"
    },
    {
     "name": "stdout",
     "output_type": "stream",
     "text": [
      "**************************************************\n",
      "Dataset insight:\n",
      "Dataset({\n",
      "    features: ['output', 'instruction', 'index'],\n",
      "    num_rows: 10000\n",
      "})\n"
     ]
    }
   ],
   "source": [
    "# load dataset\n",
    "tokenizer = keras_nlp.models.GemmaTokenizer.from_preset(model_id)\n",
    "data_set = load_dataset(\n",
    "    \"arbml/CIDAR\",\n",
    "    split=\"train\"\n",
    ")\n",
    "\n",
    "# print result\n",
    "print(\"*\" * 50)\n",
    "print(\"Dataset insight:\")\n",
    "print(data_set)"
   ]
  },
  {
   "cell_type": "code",
   "execution_count": 9,
   "id": "99b3f8f6",
   "metadata": {
    "execution": {
     "iopub.execute_input": "2025-01-11T06:21:01.502513Z",
     "iopub.status.busy": "2025-01-11T06:21:01.502296Z",
     "iopub.status.idle": "2025-01-11T06:21:01.508405Z",
     "shell.execute_reply": "2025-01-11T06:21:01.507750Z"
    },
    "papermill": {
     "duration": 0.012814,
     "end_time": "2025-01-11T06:21:01.509517",
     "exception": false,
     "start_time": "2025-01-11T06:21:01.496703",
     "status": "completed"
    },
    "tags": []
   },
   "outputs": [
    {
     "name": "stdout",
     "output_type": "stream",
     "text": [
      "**************************************************\n",
      "Dataset examples:\n",
      "{'output': array(['| الضمير | الماضي | المضارع | اسم الفاعل | اسم المفعول |\\r\\n|--------|--------|---------|-----------|------------|\\r\\n| هو     | أَجارَ  | يُجِيرُ   | مُجِير     | مُجَار      |\\r\\n| هي     | أَجارَتْ | تُجِيرُ   | مُجِيرَة   | مُجَارَة    |\\r\\n| هما   | أَجارَا  | يُجِيرانِ | مُجِيرانِ  | مُجَارانِ  |\\r\\n| هما   | أَجارَتَا | تُجِيرانِ | مُجِيرَتانِ| مُجَارَتانِ|\\r\\n| هم    | أَجارُوا | يُجِيرُونَ | مُجِيرُونَ | مُجَارُونَ  |\\r\\n| هنّ   | أَجرْنَ  | يُجِرْنَ  | مُجِيرات   | مُجَارات    |\\r\\n'],\n",
      "      dtype='<U481'), 'instruction': array(['صغ من الفعل الاجوف أجَارَ\\xa0 اسم الفاعل و اسم المفعول للضمائر هو هي هما هم هن.'],\n",
      "      dtype='<U76')}\n"
     ]
    }
   ],
   "source": [
    "# format dataset type to Numpy for fast computation\n",
    "data_set = data_set.with_format(\"np\", columns=[\"output\", \"instruction\"], output_all_columns=False)\n",
    "\n",
    "# print result\n",
    "print(\"*\" * 50)\n",
    "print(\"Dataset examples:\")\n",
    "print(data_set[:1])"
   ]
  },
  {
   "cell_type": "code",
   "execution_count": 10,
   "id": "d4cd8390",
   "metadata": {
    "execution": {
     "iopub.execute_input": "2025-01-11T06:21:01.520344Z",
     "iopub.status.busy": "2025-01-11T06:21:01.520138Z",
     "iopub.status.idle": "2025-01-11T06:21:02.283368Z",
     "shell.execute_reply": "2025-01-11T06:21:02.282695Z"
    },
    "papermill": {
     "duration": 0.770445,
     "end_time": "2025-01-11T06:21:02.285060",
     "exception": false,
     "start_time": "2025-01-11T06:21:01.514615",
     "status": "completed"
    },
    "tags": []
   },
   "outputs": [],
   "source": [
    "# create training data (strings) using dataset\n",
    "training_data = []\n",
    "\n",
    "for row in data_set:\n",
    "    # training data\n",
    "    prefix_text = 'Below is an instruction that describes a task. Write a response that appropriately completes the request.\\n\\n'\n",
    "    item = f\"<start_of_turn>user\\n{prefix_text}{row['instruction']}<end_of_turn>\\n<start_of_turn>model\\n{row['output']}<end_of_turn>\"\n",
    "\n",
    "    # limit the length of tokens of each item\n",
    "    token_length = len(tokenizer(item))\n",
    "    if token_length > token_length_limit:\n",
    "        continue \n",
    "    else:\n",
    "        training_data.append(item) \n",
    "\n",
    "    # limit the length of \n",
    "    data_length = len(training_data)\n",
    "    if data_length >= data_length_limit:\n",
    "            break"
   ]
  },
  {
   "cell_type": "code",
   "execution_count": 11,
   "id": "d03be6eb",
   "metadata": {
    "execution": {
     "iopub.execute_input": "2025-01-11T06:21:02.296508Z",
     "iopub.status.busy": "2025-01-11T06:21:02.296274Z",
     "iopub.status.idle": "2025-01-11T06:21:02.300412Z",
     "shell.execute_reply": "2025-01-11T06:21:02.299474Z"
    },
    "papermill": {
     "duration": 0.011238,
     "end_time": "2025-01-11T06:21:02.301807",
     "exception": false,
     "start_time": "2025-01-11T06:21:02.290569",
     "status": "completed"
    },
    "tags": []
   },
   "outputs": [
    {
     "name": "stdout",
     "output_type": "stream",
     "text": [
      "**************************************************\n",
      "The length of training data:\n",
      "300\n",
      "**************************************************\n",
      "Example:\n",
      "<start_of_turn>user\n",
      "Below is an instruction that describes a task. Write a response that appropriately completes the request.\n",
      "\n",
      " اشرح لي لماذا يجب على شخص يريد إعادة تدوير كتبه القديمة التبرع بها لمكتبة.<end_of_turn>\n",
      "<start_of_turn>model\n",
      " التبرع بالكتب القديمة إلى المكتبة هو وسيلة ممتازة لإعادة تدويرها ومساعدة المجتمع. فالمكتبات لا تجعل الكتب متاحة للإعارة والاستمتاع فحسب، بل إنها غالبًا ما تستخدم عائدات التبرعات بالكتب لشراء لوازم جديدة والحفاظ على تحديث مجموعاتها. وعلاوة على ذلك، يساعد التبرع بالكتب على تقليل النفايات في المزابل، حيث إن العديد من الكتب التي لا يتم بيعها لمراكز إعادة التدوير تنتهي في المزابل.<end_of_turn>\n"
     ]
    }
   ],
   "source": [
    "# test results \n",
    "print(\"*\" * 50)\n",
    "print(\"The length of training data:\")\n",
    "print(len(training_data))\n",
    "\n",
    "print(\"*\" * 50)\n",
    "print(\"Example:\")\n",
    "print(training_data[0])"
   ]
  },
  {
   "cell_type": "markdown",
   "id": "5ac47444",
   "metadata": {
    "papermill": {
     "duration": 0.004751,
     "end_time": "2025-01-11T06:21:02.311704",
     "exception": false,
     "start_time": "2025-01-11T06:21:02.306953",
     "status": "completed"
    },
    "tags": []
   },
   "source": [
    "## LoRA Fine-tuning"
   ]
  },
  {
   "cell_type": "code",
   "execution_count": 12,
   "id": "3455e4b4",
   "metadata": {
    "execution": {
     "iopub.execute_input": "2025-01-11T06:21:02.322243Z",
     "iopub.status.busy": "2025-01-11T06:21:02.322028Z",
     "iopub.status.idle": "2025-01-11T06:21:02.505447Z",
     "shell.execute_reply": "2025-01-11T06:21:02.504871Z"
    },
    "papermill": {
     "duration": 0.190101,
     "end_time": "2025-01-11T06:21:02.506704",
     "exception": false,
     "start_time": "2025-01-11T06:21:02.316603",
     "status": "completed"
    },
    "tags": []
   },
   "outputs": [],
   "source": [
    "# enable LoRA on Gemma model\n",
    "gemma_lm.backbone.enable_lora(rank=lora_rank) # a LoRA rank of 4 is computationally efficient\n",
    "gemma_lm.preprocessor.sequence_length = token_length_limit\n",
    "\n",
    "# use AdamW optimizer, which is common for transformer models\n",
    "optimizer = keras.optimizers.AdamW(\n",
    "    learning_rate = learning_rate,\n",
    "    weight_decay = 0.01\n",
    ")\n",
    "optimizer.exclude_from_weight_decay(var_names=[\"bias\", \"scale\"])\n",
    "\n",
    "# compile the model\n",
    "gemma_lm.compile(\n",
    "    loss = keras.losses.SparseCategoricalCrossentropy(from_logits=True),\n",
    "    optimizer = optimizer,\n",
    "    weighted_metrics = [keras.metrics.SparseCategoricalAccuracy()]\n",
    ")"
   ]
  },
  {
   "cell_type": "code",
   "execution_count": 13,
   "id": "0cd862db",
   "metadata": {
    "execution": {
     "iopub.execute_input": "2025-01-11T06:21:02.517838Z",
     "iopub.status.busy": "2025-01-11T06:21:02.517568Z",
     "iopub.status.idle": "2025-01-11T06:21:02.521969Z",
     "shell.execute_reply": "2025-01-11T06:21:02.521177Z"
    },
    "papermill": {
     "duration": 0.01138,
     "end_time": "2025-01-11T06:21:02.523312",
     "exception": false,
     "start_time": "2025-01-11T06:21:02.511932",
     "status": "completed"
    },
    "tags": []
   },
   "outputs": [],
   "source": [
    "# define a custom callback to save LoRA weights and evaluate the model\n",
    "class SaveLoRACallback(keras.callbacks.Callback):\n",
    "    def __init__(self, lora_base_name, lora_rank_value):\n",
    "        super().__init__()\n",
    "        self.lora_base_name = lora_base_name\n",
    "        self.lora_rank_value = lora_rank_value\n",
    "        \n",
    "    def on_epoch_end(self, epoch, logs=None):\n",
    "        # save LoRA weights\n",
    "        lora_file_name = f\"/kaggle/working/{self.lora_base_name}_lora_rank{self.lora_rank_value}_epoch{epoch+1}.lora.h5\"\n",
    "        gemma_lm.backbone.save_lora_weights(lora_file_name)\n",
    "        print(f\"LoRA weights saved: {lora_file_name}\")\n",
    "        \n",
    "        # evaluate the model\n",
    "        # self.evaluate_model()\n",
    "    \n",
    "    def evaluate_model(self):\n",
    "        text_gen(\"sample...\")"
   ]
  },
  {
   "cell_type": "code",
   "execution_count": 14,
   "id": "50e4147b",
   "metadata": {
    "execution": {
     "iopub.execute_input": "2025-01-11T06:21:02.534107Z",
     "iopub.status.busy": "2025-01-11T06:21:02.533902Z",
     "iopub.status.idle": "2025-01-11T07:04:44.985400Z",
     "shell.execute_reply": "2025-01-11T07:04:44.984559Z"
    },
    "papermill": {
     "duration": 2622.458696,
     "end_time": "2025-01-11T07:04:44.987052",
     "exception": false,
     "start_time": "2025-01-11T06:21:02.528356",
     "status": "completed"
    },
    "tags": []
   },
   "outputs": [
    {
     "name": "stdout",
     "output_type": "stream",
     "text": [
      "Epoch 1/20\n",
      "\u001b[1m300/300\u001b[0m \u001b[32m━━━━━━━━━━━━━━━━━━━━\u001b[0m\u001b[37m\u001b[0m \u001b[1m0s\u001b[0m 423ms/step - loss: 1.6745 - sparse_categorical_accuracy: 0.5137LoRA weights saved: /kaggle/working/arbml_CIDAR_lora_rank4_epoch1.lora.h5\n",
      "\u001b[1m300/300\u001b[0m \u001b[32m━━━━━━━━━━━━━━━━━━━━\u001b[0m\u001b[37m\u001b[0m \u001b[1m202s\u001b[0m 423ms/step - loss: 1.6739 - sparse_categorical_accuracy: 0.5138\n",
      "Epoch 2/20\n",
      "\u001b[1m300/300\u001b[0m \u001b[32m━━━━━━━━━━━━━━━━━━━━\u001b[0m\u001b[37m\u001b[0m \u001b[1m0s\u001b[0m 422ms/step - loss: 1.0434 - sparse_categorical_accuracy: 0.6325LoRA weights saved: /kaggle/working/arbml_CIDAR_lora_rank4_epoch2.lora.h5\n",
      "\u001b[1m300/300\u001b[0m \u001b[32m━━━━━━━━━━━━━━━━━━━━\u001b[0m\u001b[37m\u001b[0m \u001b[1m127s\u001b[0m 423ms/step - loss: 1.0436 - sparse_categorical_accuracy: 0.6324\n",
      "Epoch 3/20\n",
      "\u001b[1m300/300\u001b[0m \u001b[32m━━━━━━━━━━━━━━━━━━━━\u001b[0m\u001b[37m\u001b[0m \u001b[1m0s\u001b[0m 423ms/step - loss: 0.9564 - sparse_categorical_accuracy: 0.6519LoRA weights saved: /kaggle/working/arbml_CIDAR_lora_rank4_epoch3.lora.h5\n",
      "\u001b[1m300/300\u001b[0m \u001b[32m━━━━━━━━━━━━━━━━━━━━\u001b[0m\u001b[37m\u001b[0m \u001b[1m127s\u001b[0m 424ms/step - loss: 0.9566 - sparse_categorical_accuracy: 0.6519\n",
      "Epoch 4/20\n",
      "\u001b[1m300/300\u001b[0m \u001b[32m━━━━━━━━━━━━━━━━━━━━\u001b[0m\u001b[37m\u001b[0m \u001b[1m0s\u001b[0m 423ms/step - loss: 0.9211 - sparse_categorical_accuracy: 0.6593LoRA weights saved: /kaggle/working/arbml_CIDAR_lora_rank4_epoch4.lora.h5\n",
      "\u001b[1m300/300\u001b[0m \u001b[32m━━━━━━━━━━━━━━━━━━━━\u001b[0m\u001b[37m\u001b[0m \u001b[1m127s\u001b[0m 423ms/step - loss: 0.9213 - sparse_categorical_accuracy: 0.6593\n",
      "Epoch 5/20\n",
      "\u001b[1m300/300\u001b[0m \u001b[32m━━━━━━━━━━━━━━━━━━━━\u001b[0m\u001b[37m\u001b[0m \u001b[1m0s\u001b[0m 423ms/step - loss: 0.8962 - sparse_categorical_accuracy: 0.6652LoRA weights saved: /kaggle/working/arbml_CIDAR_lora_rank4_epoch5.lora.h5\n",
      "\u001b[1m300/300\u001b[0m \u001b[32m━━━━━━━━━━━━━━━━━━━━\u001b[0m\u001b[37m\u001b[0m \u001b[1m127s\u001b[0m 424ms/step - loss: 0.8964 - sparse_categorical_accuracy: 0.6651\n",
      "Epoch 6/20\n",
      "\u001b[1m300/300\u001b[0m \u001b[32m━━━━━━━━━━━━━━━━━━━━\u001b[0m\u001b[37m\u001b[0m \u001b[1m0s\u001b[0m 424ms/step - loss: 0.8744 - sparse_categorical_accuracy: 0.6709LoRA weights saved: /kaggle/working/arbml_CIDAR_lora_rank4_epoch6.lora.h5\n",
      "\u001b[1m300/300\u001b[0m \u001b[32m━━━━━━━━━━━━━━━━━━━━\u001b[0m\u001b[37m\u001b[0m \u001b[1m127s\u001b[0m 425ms/step - loss: 0.8746 - sparse_categorical_accuracy: 0.6709\n",
      "Epoch 7/20\n",
      "\u001b[1m300/300\u001b[0m \u001b[32m━━━━━━━━━━━━━━━━━━━━\u001b[0m\u001b[37m\u001b[0m \u001b[1m0s\u001b[0m 424ms/step - loss: 0.8526 - sparse_categorical_accuracy: 0.6783LoRA weights saved: /kaggle/working/arbml_CIDAR_lora_rank4_epoch7.lora.h5\n",
      "\u001b[1m300/300\u001b[0m \u001b[32m━━━━━━━━━━━━━━━━━━━━\u001b[0m\u001b[37m\u001b[0m \u001b[1m127s\u001b[0m 425ms/step - loss: 0.8528 - sparse_categorical_accuracy: 0.6783\n",
      "Epoch 8/20\n",
      "\u001b[1m300/300\u001b[0m \u001b[32m━━━━━━━━━━━━━━━━━━━━\u001b[0m\u001b[37m\u001b[0m \u001b[1m0s\u001b[0m 424ms/step - loss: 0.8298 - sparse_categorical_accuracy: 0.6834LoRA weights saved: /kaggle/working/arbml_CIDAR_lora_rank4_epoch8.lora.h5\n",
      "\u001b[1m300/300\u001b[0m \u001b[32m━━━━━━━━━━━━━━━━━━━━\u001b[0m\u001b[37m\u001b[0m \u001b[1m127s\u001b[0m 424ms/step - loss: 0.8300 - sparse_categorical_accuracy: 0.6833\n",
      "Epoch 9/20\n",
      "\u001b[1m300/300\u001b[0m \u001b[32m━━━━━━━━━━━━━━━━━━━━\u001b[0m\u001b[37m\u001b[0m \u001b[1m0s\u001b[0m 424ms/step - loss: 0.8057 - sparse_categorical_accuracy: 0.6904LoRA weights saved: /kaggle/working/arbml_CIDAR_lora_rank4_epoch9.lora.h5\n",
      "\u001b[1m300/300\u001b[0m \u001b[32m━━━━━━━━━━━━━━━━━━━━\u001b[0m\u001b[37m\u001b[0m \u001b[1m127s\u001b[0m 425ms/step - loss: 0.8059 - sparse_categorical_accuracy: 0.6904\n",
      "Epoch 10/20\n",
      "\u001b[1m300/300\u001b[0m \u001b[32m━━━━━━━━━━━━━━━━━━━━\u001b[0m\u001b[37m\u001b[0m \u001b[1m0s\u001b[0m 424ms/step - loss: 0.7805 - sparse_categorical_accuracy: 0.6982LoRA weights saved: /kaggle/working/arbml_CIDAR_lora_rank4_epoch10.lora.h5\n",
      "\u001b[1m300/300\u001b[0m \u001b[32m━━━━━━━━━━━━━━━━━━━━\u001b[0m\u001b[37m\u001b[0m \u001b[1m127s\u001b[0m 424ms/step - loss: 0.7806 - sparse_categorical_accuracy: 0.6981\n",
      "Epoch 11/20\n",
      "\u001b[1m300/300\u001b[0m \u001b[32m━━━━━━━━━━━━━━━━━━━━\u001b[0m\u001b[37m\u001b[0m \u001b[1m0s\u001b[0m 424ms/step - loss: 0.7540 - sparse_categorical_accuracy: 0.7067LoRA weights saved: /kaggle/working/arbml_CIDAR_lora_rank4_epoch11.lora.h5\n",
      "\u001b[1m300/300\u001b[0m \u001b[32m━━━━━━━━━━━━━━━━━━━━\u001b[0m\u001b[37m\u001b[0m \u001b[1m127s\u001b[0m 424ms/step - loss: 0.7542 - sparse_categorical_accuracy: 0.7067\n",
      "Epoch 12/20\n",
      "\u001b[1m300/300\u001b[0m \u001b[32m━━━━━━━━━━━━━━━━━━━━\u001b[0m\u001b[37m\u001b[0m \u001b[1m0s\u001b[0m 424ms/step - loss: 0.7258 - sparse_categorical_accuracy: 0.7156LoRA weights saved: /kaggle/working/arbml_CIDAR_lora_rank4_epoch12.lora.h5\n",
      "\u001b[1m300/300\u001b[0m \u001b[32m━━━━━━━━━━━━━━━━━━━━\u001b[0m\u001b[37m\u001b[0m \u001b[1m127s\u001b[0m 424ms/step - loss: 0.7259 - sparse_categorical_accuracy: 0.7155\n",
      "Epoch 13/20\n",
      "\u001b[1m300/300\u001b[0m \u001b[32m━━━━━━━━━━━━━━━━━━━━\u001b[0m\u001b[37m\u001b[0m \u001b[1m0s\u001b[0m 424ms/step - loss: 0.6962 - sparse_categorical_accuracy: 0.7245LoRA weights saved: /kaggle/working/arbml_CIDAR_lora_rank4_epoch13.lora.h5\n",
      "\u001b[1m300/300\u001b[0m \u001b[32m━━━━━━━━━━━━━━━━━━━━\u001b[0m\u001b[37m\u001b[0m \u001b[1m127s\u001b[0m 425ms/step - loss: 0.6964 - sparse_categorical_accuracy: 0.7244\n",
      "Epoch 14/20\n",
      "\u001b[1m300/300\u001b[0m \u001b[32m━━━━━━━━━━━━━━━━━━━━\u001b[0m\u001b[37m\u001b[0m \u001b[1m0s\u001b[0m 424ms/step - loss: 0.6647 - sparse_categorical_accuracy: 0.7362LoRA weights saved: /kaggle/working/arbml_CIDAR_lora_rank4_epoch14.lora.h5\n",
      "\u001b[1m300/300\u001b[0m \u001b[32m━━━━━━━━━━━━━━━━━━━━\u001b[0m\u001b[37m\u001b[0m \u001b[1m127s\u001b[0m 424ms/step - loss: 0.6648 - sparse_categorical_accuracy: 0.7361\n",
      "Epoch 15/20\n",
      "\u001b[1m300/300\u001b[0m \u001b[32m━━━━━━━━━━━━━━━━━━━━\u001b[0m\u001b[37m\u001b[0m \u001b[1m0s\u001b[0m 424ms/step - loss: 0.6335 - sparse_categorical_accuracy: 0.7466LoRA weights saved: /kaggle/working/arbml_CIDAR_lora_rank4_epoch15.lora.h5\n",
      "\u001b[1m300/300\u001b[0m \u001b[32m━━━━━━━━━━━━━━━━━━━━\u001b[0m\u001b[37m\u001b[0m \u001b[1m127s\u001b[0m 424ms/step - loss: 0.6336 - sparse_categorical_accuracy: 0.7465\n",
      "Epoch 16/20\n",
      "\u001b[1m300/300\u001b[0m \u001b[32m━━━━━━━━━━━━━━━━━━━━\u001b[0m\u001b[37m\u001b[0m \u001b[1m0s\u001b[0m 424ms/step - loss: 0.6008 - sparse_categorical_accuracy: 0.7577LoRA weights saved: /kaggle/working/arbml_CIDAR_lora_rank4_epoch16.lora.h5\n",
      "\u001b[1m300/300\u001b[0m \u001b[32m━━━━━━━━━━━━━━━━━━━━\u001b[0m\u001b[37m\u001b[0m \u001b[1m127s\u001b[0m 424ms/step - loss: 0.6009 - sparse_categorical_accuracy: 0.7577\n",
      "Epoch 17/20\n",
      "\u001b[1m300/300\u001b[0m \u001b[32m━━━━━━━━━━━━━━━━━━━━\u001b[0m\u001b[37m\u001b[0m \u001b[1m0s\u001b[0m 423ms/step - loss: 0.5692 - sparse_categorical_accuracy: 0.7688LoRA weights saved: /kaggle/working/arbml_CIDAR_lora_rank4_epoch17.lora.h5\n",
      "\u001b[1m300/300\u001b[0m \u001b[32m━━━━━━━━━━━━━━━━━━━━\u001b[0m\u001b[37m\u001b[0m \u001b[1m127s\u001b[0m 424ms/step - loss: 0.5693 - sparse_categorical_accuracy: 0.7688\n",
      "Epoch 18/20\n",
      "\u001b[1m300/300\u001b[0m \u001b[32m━━━━━━━━━━━━━━━━━━━━\u001b[0m\u001b[37m\u001b[0m \u001b[1m0s\u001b[0m 424ms/step - loss: 0.5374 - sparse_categorical_accuracy: 0.7826LoRA weights saved: /kaggle/working/arbml_CIDAR_lora_rank4_epoch18.lora.h5\n",
      "\u001b[1m300/300\u001b[0m \u001b[32m━━━━━━━━━━━━━━━━━━━━\u001b[0m\u001b[37m\u001b[0m \u001b[1m127s\u001b[0m 424ms/step - loss: 0.5374 - sparse_categorical_accuracy: 0.7826\n",
      "Epoch 19/20\n",
      "\u001b[1m300/300\u001b[0m \u001b[32m━━━━━━━━━━━━━━━━━━━━\u001b[0m\u001b[37m\u001b[0m \u001b[1m0s\u001b[0m 424ms/step - loss: 0.5054 - sparse_categorical_accuracy: 0.7970LoRA weights saved: /kaggle/working/arbml_CIDAR_lora_rank4_epoch19.lora.h5\n",
      "\u001b[1m300/300\u001b[0m \u001b[32m━━━━━━━━━━━━━━━━━━━━\u001b[0m\u001b[37m\u001b[0m \u001b[1m127s\u001b[0m 424ms/step - loss: 0.5055 - sparse_categorical_accuracy: 0.7970\n",
      "Epoch 20/20\n",
      "\u001b[1m300/300\u001b[0m \u001b[32m━━━━━━━━━━━━━━━━━━━━\u001b[0m\u001b[37m\u001b[0m \u001b[1m0s\u001b[0m 424ms/step - loss: 0.4738 - sparse_categorical_accuracy: 0.8109LoRA weights saved: /kaggle/working/arbml_CIDAR_lora_rank4_epoch20.lora.h5\n",
      "\u001b[1m300/300\u001b[0m \u001b[32m━━━━━━━━━━━━━━━━━━━━\u001b[0m\u001b[37m\u001b[0m \u001b[1m127s\u001b[0m 424ms/step - loss: 0.4739 - sparse_categorical_accuracy: 0.8108\n"
     ]
    }
   ],
   "source": [
    "# train the model\n",
    "training_history = gemma_lm.fit(\n",
    "    training_data,\n",
    "    epochs=num_epochs,\n",
    "    batch_size=batch_size,\n",
    "    callbacks=[SaveLoRACallback(lora_base_name=lora_name, lora_rank_value=lora_rank)]\n",
    ")"
   ]
  },
  {
   "cell_type": "code",
   "execution_count": 15,
   "id": "2dc50bd2",
   "metadata": {
    "execution": {
     "iopub.execute_input": "2025-01-11T07:04:45.585078Z",
     "iopub.status.busy": "2025-01-11T07:04:45.584746Z",
     "iopub.status.idle": "2025-01-11T07:04:45.850464Z",
     "shell.execute_reply": "2025-01-11T07:04:45.849610Z"
    },
    "papermill": {
     "duration": 0.571634,
     "end_time": "2025-01-11T07:04:45.851894",
     "exception": false,
     "start_time": "2025-01-11T07:04:45.280260",
     "status": "completed"
    },
    "tags": []
   },
   "outputs": [
    {
     "data": {
      "image/png": "[encoded data removed]",
      "text/plain": [
       "<Figure size 800x600 with 1 Axes>"
      ]
     },
     "metadata": {},
     "output_type": "display_data"
    }
   ],
   "source": [
    "# plot the training loss\n",
    "plt.figure(figsize=(8, 6))\n",
    "plt.plot(training_history.history['loss'], label='Training Loss')\n",
    "plt.title('Training Loss over Epochs')\n",
    "plt.xlabel('Epochs')\n",
    "plt.ylabel('Loss')\n",
    "plt.grid(True)\n",
    "plt.show()"
   ]
  }
 ],
 "metadata": {
  "kaggle": {
   "accelerator": "gpu",
   "dataSources": [
    {
     "modelId": 78150,
     "modelInstanceId": 72246,
     "sourceId": 85986,
     "sourceType": "modelInstanceVersion"
    }
   ],
   "dockerImageVersionId": 30823,
   "isGpuEnabled": true,
   "isInternetEnabled": true,
   "language": "python",
   "sourceType": "notebook"
  },
  "kernelspec": {
   "display_name": "Python 3",
   "language": "python",
   "name": "python3"
  },
  "language_info": {
   "codemirror_mode": {
    "name": "ipython",
    "version": 3
   },
   "file_extension": ".py",
   "mimetype": "text/x-python",
   "name": "python",
   "nbconvert_exporter": "python",
   "pygments_lexer": "ipython3",
   "version": "3.10.12"
  },
  "papermill": {
   "default_parameters": {},
   "duration": 2743.074496,
   "end_time": "2025-01-11T07:04:49.410305",
   "environment_variables": {},
   "exception": null,
   "input_path": "__notebook__.ipynb",
   "output_path": "__notebook__.ipynb",
   "parameters": {},
   "start_time": "2025-01-11T06:19:06.335809",
   "version": "2.6.0"
  },
  "widgets": {
   "application/vnd.jupyter.widget-state+json": {
    "state": {
     "00d95f1aa79c494693d119a3d793b76f": {
      "model_module": "@jupyter-widgets/base",
      "model_module_version": "2.0.0",
      "model_name": "LayoutModel",
      "state": {
       "_model_module": "@jupyter-widgets/base",
       "_model_module_version": "2.0.0",
       "_model_name": "LayoutModel",
       "_view_count": null,
       "_view_module": "@jupyter-widgets/base",
       "_view_module_version": "2.0.0",
       "_view_name": "LayoutView",
       "align_content": null,
       "align_items": null,
       "align_self": null,
       "border_bottom": null,
       "border_left": null,
       "border_right": null,
       "border_top": null,
       "bottom": null,
       "display": null,
       "flex": null,
       "flex_flow": null,
       "grid_area": null,
       "grid_auto_columns": null,
       "grid_auto_flow": null,
       "grid_auto_rows": null,
       "grid_column": null,
       "grid_gap": null,
       "grid_row": null,
       "grid_template_areas": null,
       "grid_template_columns": null,
       "grid_template_rows": null,
       "height": null,
       "justify_content": null,
       "justify_items": null,
       "left": null,
       "margin": null,
       "max_height": null,
       "max_width": null,
       "min_height": null,
       "min_width": null,
       "object_fit": null,
       "object_position": null,
       "order": null,
       "overflow": null,
       "padding": null,
       "right": null,
       "top": null,
       "visibility": null,
       "width": null
      }
     },
     "0339bfcf86034115b52a27e41bafa8df": {
      "model_module": "@jupyter-widgets/controls",
      "model_module_version": "2.0.0",
      "model_name": "HTMLModel",
      "state": {
       "_dom_classes": [],
       "_model_module": "@jupyter-widgets/controls",
       "_model_module_version": "2.0.0",
       "_model_name": "HTMLModel",
       "_view_count": null,
       "_view_module": "@jupyter-widgets/controls",
       "_view_module_version": "2.0.0",
       "_view_name": "HTMLView",
       "description": "",
       "description_allow_html": false,
       "layout": "IPY_MODEL_0c509c29d99b457e89a088307dce9d6f",
       "placeholder": "​",
       "style": "IPY_MODEL_7abbccd2a7a64b8a82057447a5d9c8c2",
       "tabbable": null,
       "tooltip": null,
       "value": "Generating train split: 100%"
      }
     },
     "0aeb742d874d4a24be9f9cfee432dc39": {
      "model_module": "@jupyter-widgets/controls",
      "model_module_version": "2.0.0",
      "model_name": "FloatProgressModel",
      "state": {
       "_dom_classes": [],
       "_model_module": "@jupyter-widgets/controls",
       "_model_module_version": "2.0.0",
       "_model_name": "FloatProgressModel",
       "_view_count": null,
       "_view_module": "@jupyter-widgets/controls",
       "_view_module_version": "2.0.0",
       "_view_name": "ProgressView",
       "bar_style": "success",
       "description": "",
       "description_allow_html": false,
       "layout": "IPY_MODEL_75bdf24aca0f40c48495e22c9e8b63f5",
       "max": 1.0,
       "min": 0.0,
       "orientation": "horizontal",
       "style": "IPY_MODEL_ab87c695db03400a9af52d078b3971e8",
       "tabbable": null,
       "tooltip": null,
       "value": 1.0
      }
     },
     "0c509c29d99b457e89a088307dce9d6f": {
      "model_module": "@jupyter-widgets/base",
      "model_module_version": "2.0.0",
      "model_name": "LayoutModel",
      "state": {
       "_model_module": "@jupyter-widgets/base",
       "_model_module_version": "2.0.0",
       "_model_name": "LayoutModel",
       "_view_count": null,
       "_view_module": "@jupyter-widgets/base",
       "_view_module_version": "2.0.0",
       "_view_name": "LayoutView",
       "align_content": null,
       "align_items": null,
       "align_self": null,
       "border_bottom": null,
       "border_left": null,
       "border_right": null,
       "border_top": null,
       "bottom": null,
       "display": null,
       "flex": null,
       "flex_flow": null,
       "grid_area": null,
       "grid_auto_columns": null,
       "grid_auto_flow": null,
       "grid_auto_rows": null,
       "grid_column": null,
       "grid_gap": null,
       "grid_row": null,
       "grid_template_areas": null,
       "grid_template_columns": null,
       "grid_template_rows": null,
       "height": null,
       "justify_content": null,
       "justify_items": null,
       "left": null,
       "margin": null,
       "max_height": null,
       "max_width": null,
       "min_height": null,
       "min_width": null,
       "object_fit": null,
       "object_position": null,
       "order": null,
       "overflow": null,
       "padding": null,
       "right": null,
       "top": null,
       "visibility": null,
       "width": null
      }
     },
     "0e63f8c1552846f4ab8bfbf03e105c1a": {
      "model_module": "@jupyter-widgets/controls",
      "model_module_version": "2.0.0",
      "model_name": "HTMLModel",
      "state": {
       "_dom_classes": [],
       "_model_module": "@jupyter-widgets/controls",
       "_model_module_version": "2.0.0",
       "_model_name": "HTMLModel",
       "_view_count": null,
       "_view_module": "@jupyter-widgets/controls",
       "_view_module_version": "2.0.0",
       "_view_name": "HTMLView",
       "description": "",
       "description_allow_html": false,
       "layout": "IPY_MODEL_58d2058809654610baac2e2d8f60238c",
       "placeholder": "​",
       "style": "IPY_MODEL_5bbccf50c6a648cbbecacc8cbdb07ff0",
       "tabbable": null,
       "tooltip": null,
       "value": "Computing checksums: 100%"
      }
     },
     "27ba1edff26941e5964680969e1e35c1": {
      "model_module": "@jupyter-widgets/base",
      "model_module_version": "2.0.0",
      "model_name": "LayoutModel",
      "state": {
       "_model_module": "@jupyter-widgets/base",
       "_model_module_version": "2.0.0",
       "_model_name": "LayoutModel",
       "_view_count": null,
       "_view_module": "@jupyter-widgets/base",
       "_view_module_version": "2.0.0",
       "_view_name": "LayoutView",
       "align_content": null,
       "align_items": null,
       "align_self": null,
       "border_bottom": null,
       "border_left": null,
       "border_right": null,
       "border_top": null,
       "bottom": null,
       "display": null,
       "flex": null,
       "flex_flow": null,
       "grid_area": null,
       "grid_auto_columns": null,
       "grid_auto_flow": null,
       "grid_auto_rows": null,
       "grid_column": null,
       "grid_gap": null,
       "grid_row": null,
       "grid_template_areas": null,
       "grid_template_columns": null,
       "grid_template_rows": null,
       "height": null,
       "justify_content": null,
       "justify_items": null,
       "left": null,
       "margin": null,
       "max_height": null,
       "max_width": null,
       "min_height": null,
       "min_width": null,
       "object_fit": null,
       "object_position": null,
       "order": null,
       "overflow": null,
       "padding": null,
       "right": null,
       "top": null,
       "visibility": null,
       "width": null
      }
     },
     "302f66d326d244218cc46f9f5e9da209": {
      "model_module": "@jupyter-widgets/base",
      "model_module_version": "2.0.0",
      "model_name": "LayoutModel",
      "state": {
       "_model_module": "@jupyter-widgets/base",
       "_model_module_version": "2.0.0",
       "_model_name": "LayoutModel",
       "_view_count": null,
       "_view_module": "@jupyter-widgets/base",
       "_view_module_version": "2.0.0",
       "_view_name": "LayoutView",
       "align_content": null,
       "align_items": null,
       "align_self": null,
       "border_bottom": null,
       "border_left": null,
       "border_right": null,
       "border_top": null,
       "bottom": null,
       "display": null,
       "flex": null,
       "flex_flow": null,
       "grid_area": null,
       "grid_auto_columns": null,
       "grid_auto_flow": null,
       "grid_auto_rows": null,
       "grid_column": null,
       "grid_gap": null,
       "grid_row": null,
       "grid_template_areas": null,
       "grid_template_columns": null,
       "grid_template_rows": null,
       "height": null,
       "justify_content": null,
       "justify_items": null,
       "left": null,
       "margin": null,
       "max_height": null,
       "max_width": null,
       "min_height": null,
       "min_width": null,
       "object_fit": null,
       "object_position": null,
       "order": null,
       "overflow": null,
       "padding": null,
       "right": null,
       "top": null,
       "visibility": null,
       "width": null
      }
     },
     "305cc126d7724ed0a46b253ef1977963": {
      "model_module": "@jupyter-widgets/controls",
      "model_module_version": "2.0.0",
      "model_name": "ProgressStyleModel",
      "state": {
       "_model_module": "@jupyter-widgets/controls",
       "_model_module_version": "2.0.0",
       "_model_name": "ProgressStyleModel",
       "_view_count": null,
       "_view_module": "@jupyter-widgets/base",
       "_view_module_version": "2.0.0",
       "_view_name": "StyleView",
       "bar_color": null,
       "description_width": ""
      }
     },
     "397c2ce9f8644db9900ec0dc5359eb25": {
      "model_module": "@jupyter-widgets/base",
      "model_module_version": "2.0.0",
      "model_name": "LayoutModel",
      "state": {
       "_model_module": "@jupyter-widgets/base",
       "_model_module_version": "2.0.0",
       "_model_name": "LayoutModel",
       "_view_count": null,
       "_view_module": "@jupyter-widgets/base",
       "_view_module_version": "2.0.0",
       "_view_name": "LayoutView",
       "align_content": null,
       "align_items": null,
       "align_self": null,
       "border_bottom": null,
       "border_left": null,
       "border_right": null,
       "border_top": null,
       "bottom": null,
       "display": null,
       "flex": null,
       "flex_flow": null,
       "grid_area": null,
       "grid_auto_columns": null,
       "grid_auto_flow": null,
       "grid_auto_rows": null,
       "grid_column": null,
       "grid_gap": null,
       "grid_row": null,
       "grid_template_areas": null,
       "grid_template_columns": null,
       "grid_template_rows": null,
       "height": null,
       "justify_content": null,
       "justify_items": null,
       "left": null,
       "margin": null,
       "max_height": null,
       "max_width": null,
       "min_height": null,
       "min_width": null,
       "object_fit": null,
       "object_position": null,
       "order": null,
       "overflow": null,
       "padding": null,
       "right": null,
       "top": null,
       "visibility": null,
       "width": null
      }
     },
     "3aa89d1d1e3b4623a7b05afcc98a7304": {
      "model_module": "@jupyter-widgets/controls",
      "model_module_version": "2.0.0",
      "model_name": "ProgressStyleModel",
      "state": {
       "_model_module": "@jupyter-widgets/controls",
       "_model_module_version": "2.0.0",
       "_model_name": "ProgressStyleModel",
       "_view_count": null,
       "_view_module": "@jupyter-widgets/base",
       "_view_module_version": "2.0.0",
       "_view_name": "StyleView",
       "bar_color": null,
       "description_width": ""
      }
     },
     "3cbf8efd1fb649e981cd0e0d8224b093": {
      "model_module": "@jupyter-widgets/base",
      "model_module_version": "2.0.0",
      "model_name": "LayoutModel",
      "state": {
       "_model_module": "@jupyter-widgets/base",
       "_model_module_version": "2.0.0",
       "_model_name": "LayoutModel",
       "_view_count": null,
       "_view_module": "@jupyter-widgets/base",
       "_view_module_version": "2.0.0",
       "_view_name": "LayoutView",
       "align_content": null,
       "align_items": null,
       "align_self": null,
       "border_bottom": null,
       "border_left": null,
       "border_right": null,
       "border_top": null,
       "bottom": null,
       "display": null,
       "flex": null,
       "flex_flow": null,
       "grid_area": null,
       "grid_auto_columns": null,
       "grid_auto_flow": null,
       "grid_auto_rows": null,
       "grid_column": null,
       "grid_gap": null,
       "grid_row": null,
       "grid_template_areas": null,
       "grid_template_columns": null,
       "grid_template_rows": null,
       "height": null,
       "justify_content": null,
       "justify_items": null,
       "left": null,
       "margin": null,
       "max_height": null,
       "max_width": null,
       "min_height": null,
       "min_width": null,
       "object_fit": null,
       "object_position": null,
       "order": null,
       "overflow": null,
       "padding": null,
       "right": null,
       "top": null,
       "visibility": null,
       "width": null
      }
     },
     "3e23d9adfe06417b9ae7c78133b9e7f2": {
      "model_module": "@jupyter-widgets/controls",
      "model_module_version": "2.0.0",
      "model_name": "HTMLModel",
      "state": {
       "_dom_classes": [],
       "_model_module": "@jupyter-widgets/controls",
       "_model_module_version": "2.0.0",
       "_model_name": "HTMLModel",
       "_view_count": null,
       "_view_module": "@jupyter-widgets/controls",
       "_view_module_version": "2.0.0",
       "_view_name": "HTMLView",
       "description": "",
       "description_allow_html": false,
       "layout": "IPY_MODEL_397c2ce9f8644db9900ec0dc5359eb25",
       "placeholder": "​",
       "style": "IPY_MODEL_a9ff0298ae834362b1509f202fd19968",
       "tabbable": null,
       "tooltip": null,
       "value": " 10000/10000 [00:00&lt;00:00, 123441.76 examples/s]"
      }
     },
     "42bbb87b7ac847cea04f9d12b0118d87": {
      "model_module": "@jupyter-widgets/controls",
      "model_module_version": "2.0.0",
      "model_name": "HTMLStyleModel",
      "state": {
       "_model_module": "@jupyter-widgets/controls",
       "_model_module_version": "2.0.0",
       "_model_name": "HTMLStyleModel",
       "_view_count": null,
       "_view_module": "@jupyter-widgets/base",
       "_view_module_version": "2.0.0",
       "_view_name": "StyleView",
       "background": null,
       "description_width": "",
       "font_size": null,
       "text_color": null
      }
     },
     "45c37bde264146a498a52ea90c9c628a": {
      "model_module": "@jupyter-widgets/base",
      "model_module_version": "2.0.0",
      "model_name": "LayoutModel",
      "state": {
       "_model_module": "@jupyter-widgets/base",
       "_model_module_version": "2.0.0",
       "_model_name": "LayoutModel",
       "_view_count": null,
       "_view_module": "@jupyter-widgets/base",
       "_view_module_version": "2.0.0",
       "_view_name": "LayoutView",
       "align_content": null,
       "align_items": null,
       "align_self": null,
       "border_bottom": null,
       "border_left": null,
       "border_right": null,
       "border_top": null,
       "bottom": null,
       "display": null,
       "flex": null,
       "flex_flow": null,
       "grid_area": null,
       "grid_auto_columns": null,
       "grid_auto_flow": null,
       "grid_auto_rows": null,
       "grid_column": null,
       "grid_gap": null,
       "grid_row": null,
       "grid_template_areas": null,
       "grid_template_columns": null,
       "grid_template_rows": null,
       "height": null,
       "justify_content": null,
       "justify_items": null,
       "left": null,
       "margin": null,
       "max_height": null,
       "max_width": null,
       "min_height": null,
       "min_width": null,
       "object_fit": null,
       "object_position": null,
       "order": null,
       "overflow": null,
       "padding": null,
       "right": null,
       "top": null,
       "visibility": null,
       "width": null
      }
     },
     "4c3d5015bc5945e0b8083e466aa2f1d7": {
      "model_module": "@jupyter-widgets/controls",
      "model_module_version": "2.0.0",
      "model_name": "HTMLModel",
      "state": {
       "_dom_classes": [],
       "_model_module": "@jupyter-widgets/controls",
       "_model_module_version": "2.0.0",
       "_model_name": "HTMLModel",
       "_view_count": null,
       "_view_module": "@jupyter-widgets/controls",
       "_view_module_version": "2.0.0",
       "_view_name": "HTMLView",
       "description": "",
       "description_allow_html": false,
       "layout": "IPY_MODEL_3cbf8efd1fb649e981cd0e0d8224b093",
       "placeholder": "​",
       "style": "IPY_MODEL_9a5c1fad51314bf8b92a3c7113a09115",
       "tabbable": null,
       "tooltip": null,
       "value": " 3.55M/3.55M [00:00&lt;00:00, 39.2MB/s]"
      }
     },
     "54ae318be4804dc7aeb3671d429f4215": {
      "model_module": "@jupyter-widgets/controls",
      "model_module_version": "2.0.0",
      "model_name": "HBoxModel",
      "state": {
       "_dom_classes": [],
       "_model_module": "@jupyter-widgets/controls",
       "_model_module_version": "2.0.0",
       "_model_name": "HBoxModel",
       "_view_count": null,
       "_view_module": "@jupyter-widgets/controls",
       "_view_module_version": "2.0.0",
       "_view_name": "HBoxView",
       "box_style": "",
       "children": [
        "IPY_MODEL_0339bfcf86034115b52a27e41bafa8df",
        "IPY_MODEL_bcf2cda64143465b8ad3d8b330498e94",
        "IPY_MODEL_3e23d9adfe06417b9ae7c78133b9e7f2"
       ],
       "layout": "IPY_MODEL_00d95f1aa79c494693d119a3d793b76f",
       "tabbable": null,
       "tooltip": null
      }
     },
     "5575b6f68b4c4bd4b28bf347095c7230": {
      "model_module": "@jupyter-widgets/controls",
      "model_module_version": "2.0.0",
      "model_name": "HBoxModel",
      "state": {
       "_dom_classes": [],
       "_model_module": "@jupyter-widgets/controls",
       "_model_module_version": "2.0.0",
       "_model_name": "HBoxModel",
       "_view_count": null,
       "_view_module": "@jupyter-widgets/controls",
       "_view_module_version": "2.0.0",
       "_view_name": "HBoxView",
       "box_style": "",
       "children": [
        "IPY_MODEL_80fbde36c6604045a05850e3bd6722ac",
        "IPY_MODEL_73404ff354714ce4bb92fe917d1fbdd8",
        "IPY_MODEL_4c3d5015bc5945e0b8083e466aa2f1d7"
       ],
       "layout": "IPY_MODEL_9b6923e297aa4b2385572e4ca497f76a",
       "tabbable": null,
       "tooltip": null
      }
     },
     "58d2058809654610baac2e2d8f60238c": {
      "model_module": "@jupyter-widgets/base",
      "model_module_version": "2.0.0",
      "model_name": "LayoutModel",
      "state": {
       "_model_module": "@jupyter-widgets/base",
       "_model_module_version": "2.0.0",
       "_model_name": "LayoutModel",
       "_view_count": null,
       "_view_module": "@jupyter-widgets/base",
       "_view_module_version": "2.0.0",
       "_view_name": "LayoutView",
       "align_content": null,
       "align_items": null,
       "align_self": null,
       "border_bottom": null,
       "border_left": null,
       "border_right": null,
       "border_top": null,
       "bottom": null,
       "display": null,
       "flex": null,
       "flex_flow": null,
       "grid_area": null,
       "grid_auto_columns": null,
       "grid_auto_flow": null,
       "grid_auto_rows": null,
       "grid_column": null,
       "grid_gap": null,
       "grid_row": null,
       "grid_template_areas": null,
       "grid_template_columns": null,
       "grid_template_rows": null,
       "height": null,
       "justify_content": null,
       "justify_items": null,
       "left": null,
       "margin": null,
       "max_height": null,
       "max_width": null,
       "min_height": null,
       "min_width": null,
       "object_fit": null,
       "object_position": null,
       "order": null,
       "overflow": null,
       "padding": null,
       "right": null,
       "top": null,
       "visibility": null,
       "width": null
      }
     },
     "5bbccf50c6a648cbbecacc8cbdb07ff0": {
      "model_module": "@jupyter-widgets/controls",
      "model_module_version": "2.0.0",
      "model_name": "HTMLStyleModel",
      "state": {
       "_model_module": "@jupyter-widgets/controls",
       "_model_module_version": "2.0.0",
       "_model_name": "HTMLStyleModel",
       "_view_count": null,
       "_view_module": "@jupyter-widgets/base",
       "_view_module_version": "2.0.0",
       "_view_name": "StyleView",
       "background": null,
       "description_width": "",
       "font_size": null,
       "text_color": null
      }
     },
     "5bf875fe49b6410dbaec5e223c818a37": {
      "model_module": "@jupyter-widgets/controls",
      "model_module_version": "2.0.0",
      "model_name": "ProgressStyleModel",
      "state": {
       "_model_module": "@jupyter-widgets/controls",
       "_model_module_version": "2.0.0",
       "_model_name": "ProgressStyleModel",
       "_view_count": null,
       "_view_module": "@jupyter-widgets/base",
       "_view_module_version": "2.0.0",
       "_view_name": "StyleView",
       "bar_color": null,
       "description_width": ""
      }
     },
     "5c4eee6396104435b1cc164b0bbce4ca": {
      "model_module": "@jupyter-widgets/controls",
      "model_module_version": "2.0.0",
      "model_name": "HBoxModel",
      "state": {
       "_dom_classes": [],
       "_model_module": "@jupyter-widgets/controls",
       "_model_module_version": "2.0.0",
       "_model_name": "HBoxModel",
       "_view_count": null,
       "_view_module": "@jupyter-widgets/controls",
       "_view_module_version": "2.0.0",
       "_view_name": "HBoxView",
       "box_style": "",
       "children": [
        "IPY_MODEL_0e63f8c1552846f4ab8bfbf03e105c1a",
        "IPY_MODEL_0aeb742d874d4a24be9f9cfee432dc39",
        "IPY_MODEL_eba0c54706964251bcdd4816a5813129"
       ],
       "layout": "IPY_MODEL_d1f8b072a9b64a5980ea449c4f276b36",
       "tabbable": null,
       "tooltip": null
      }
     },
     "6626b6b8e10a423a8b3934efccd5f9dc": {
      "model_module": "@jupyter-widgets/base",
      "model_module_version": "2.0.0",
      "model_name": "LayoutModel",
      "state": {
       "_model_module": "@jupyter-widgets/base",
       "_model_module_version": "2.0.0",
       "_model_name": "LayoutModel",
       "_view_count": null,
       "_view_module": "@jupyter-widgets/base",
       "_view_module_version": "2.0.0",
       "_view_name": "LayoutView",
       "align_content": null,
       "align_items": null,
       "align_self": null,
       "border_bottom": null,
       "border_left": null,
       "border_right": null,
       "border_top": null,
       "bottom": null,
       "display": null,
       "flex": null,
       "flex_flow": null,
       "grid_area": null,
       "grid_auto_columns": null,
       "grid_auto_flow": null,
       "grid_auto_rows": null,
       "grid_column": null,
       "grid_gap": null,
       "grid_row": null,
       "grid_template_areas": null,
       "grid_template_columns": null,
       "grid_template_rows": null,
       "height": null,
       "justify_content": null,
       "justify_items": null,
       "left": null,
       "margin": null,
       "max_height": null,
       "max_width": null,
       "min_height": null,
       "min_width": null,
       "object_fit": null,
       "object_position": null,
       "order": null,
       "overflow": null,
       "padding": null,
       "right": null,
       "top": null,
       "visibility": null,
       "width": null
      }
     },
     "680b2540e5594833984a6eb04588dc08": {
      "model_module": "@jupyter-widgets/controls",
      "model_module_version": "2.0.0",
      "model_name": "FloatProgressModel",
      "state": {
       "_dom_classes": [],
       "_model_module": "@jupyter-widgets/controls",
       "_model_module_version": "2.0.0",
       "_model_name": "FloatProgressModel",
       "_view_count": null,
       "_view_module": "@jupyter-widgets/controls",
       "_view_module_version": "2.0.0",
       "_view_name": "ProgressView",
       "bar_style": "success",
       "description": "",
       "description_allow_html": false,
       "layout": "IPY_MODEL_6626b6b8e10a423a8b3934efccd5f9dc",
       "max": 5363.0,
       "min": 0.0,
       "orientation": "horizontal",
       "style": "IPY_MODEL_3aa89d1d1e3b4623a7b05afcc98a7304",
       "tabbable": null,
       "tooltip": null,
       "value": 5363.0
      }
     },
     "73404ff354714ce4bb92fe917d1fbdd8": {
      "model_module": "@jupyter-widgets/controls",
      "model_module_version": "2.0.0",
      "model_name": "FloatProgressModel",
      "state": {
       "_dom_classes": [],
       "_model_module": "@jupyter-widgets/controls",
       "_model_module_version": "2.0.0",
       "_model_name": "FloatProgressModel",
       "_view_count": null,
       "_view_module": "@jupyter-widgets/controls",
       "_view_module_version": "2.0.0",
       "_view_name": "ProgressView",
       "bar_style": "success",
       "description": "",
       "description_allow_html": false,
       "layout": "IPY_MODEL_d66c0be3c1914c3db578a699c9cee2be",
       "max": 3553672.0,
       "min": 0.0,
       "orientation": "horizontal",
       "style": "IPY_MODEL_5bf875fe49b6410dbaec5e223c818a37",
       "tabbable": null,
       "tooltip": null,
       "value": 3553672.0
      }
     },
     "75bdf24aca0f40c48495e22c9e8b63f5": {
      "model_module": "@jupyter-widgets/base",
      "model_module_version": "2.0.0",
      "model_name": "LayoutModel",
      "state": {
       "_model_module": "@jupyter-widgets/base",
       "_model_module_version": "2.0.0",
       "_model_name": "LayoutModel",
       "_view_count": null,
       "_view_module": "@jupyter-widgets/base",
       "_view_module_version": "2.0.0",
       "_view_name": "LayoutView",
       "align_content": null,
       "align_items": null,
       "align_self": null,
       "border_bottom": null,
       "border_left": null,
       "border_right": null,
       "border_top": null,
       "bottom": null,
       "display": null,
       "flex": null,
       "flex_flow": null,
       "grid_area": null,
       "grid_auto_columns": null,
       "grid_auto_flow": null,
       "grid_auto_rows": null,
       "grid_column": null,
       "grid_gap": null,
       "grid_row": null,
       "grid_template_areas": null,
       "grid_template_columns": null,
       "grid_template_rows": null,
       "height": null,
       "justify_content": null,
       "justify_items": null,
       "left": null,
       "margin": null,
       "max_height": null,
       "max_width": null,
       "min_height": null,
       "min_width": null,
       "object_fit": null,
       "object_position": null,
       "order": null,
       "overflow": null,
       "padding": null,
       "right": null,
       "top": null,
       "visibility": null,
       "width": null
      }
     },
     "79059b38f4d54e8a92091d135cf97506": {
      "model_module": "@jupyter-widgets/base",
      "model_module_version": "2.0.0",
      "model_name": "LayoutModel",
      "state": {
       "_model_module": "@jupyter-widgets/base",
       "_model_module_version": "2.0.0",
       "_model_name": "LayoutModel",
       "_view_count": null,
       "_view_module": "@jupyter-widgets/base",
       "_view_module_version": "2.0.0",
       "_view_name": "LayoutView",
       "align_content": null,
       "align_items": null,
       "align_self": null,
       "border_bottom": null,
       "border_left": null,
       "border_right": null,
       "border_top": null,
       "bottom": null,
       "display": null,
       "flex": null,
       "flex_flow": null,
       "grid_area": null,
       "grid_auto_columns": null,
       "grid_auto_flow": null,
       "grid_auto_rows": null,
       "grid_column": null,
       "grid_gap": null,
       "grid_row": null,
       "grid_template_areas": null,
       "grid_template_columns": null,
       "grid_template_rows": null,
       "height": null,
       "justify_content": null,
       "justify_items": null,
       "left": null,
       "margin": null,
       "max_height": null,
       "max_width": null,
       "min_height": null,
       "min_width": null,
       "object_fit": null,
       "object_position": null,
       "order": null,
       "overflow": null,
       "padding": null,
       "right": null,
       "top": null,
       "visibility": null,
       "width": null
      }
     },
     "7abbccd2a7a64b8a82057447a5d9c8c2": {
      "model_module": "@jupyter-widgets/controls",
      "model_module_version": "2.0.0",
      "model_name": "HTMLStyleModel",
      "state": {
       "_model_module": "@jupyter-widgets/controls",
       "_model_module_version": "2.0.0",
       "_model_name": "HTMLStyleModel",
       "_view_count": null,
       "_view_module": "@jupyter-widgets/base",
       "_view_module_version": "2.0.0",
       "_view_name": "StyleView",
       "background": null,
       "description_width": "",
       "font_size": null,
       "text_color": null
      }
     },
     "80fbde36c6604045a05850e3bd6722ac": {
      "model_module": "@jupyter-widgets/controls",
      "model_module_version": "2.0.0",
      "model_name": "HTMLModel",
      "state": {
       "_dom_classes": [],
       "_model_module": "@jupyter-widgets/controls",
       "_model_module_version": "2.0.0",
       "_model_name": "HTMLModel",
       "_view_count": null,
       "_view_module": "@jupyter-widgets/controls",
       "_view_module_version": "2.0.0",
       "_view_name": "HTMLView",
       "description": "",
       "description_allow_html": false,
       "layout": "IPY_MODEL_27ba1edff26941e5964680969e1e35c1",
       "placeholder": "​",
       "style": "IPY_MODEL_9c5f85377ef9436c9a66e718781f71cf",
       "tabbable": null,
       "tooltip": null,
       "value": "(…)-00000-of-00001-b2881e1b9f14c3b1.parquet: 100%"
      }
     },
     "834595d9ab9b41299b16a991d6677620": {
      "model_module": "@jupyter-widgets/base",
      "model_module_version": "2.0.0",
      "model_name": "LayoutModel",
      "state": {
       "_model_module": "@jupyter-widgets/base",
       "_model_module_version": "2.0.0",
       "_model_name": "LayoutModel",
       "_view_count": null,
       "_view_module": "@jupyter-widgets/base",
       "_view_module_version": "2.0.0",
       "_view_name": "LayoutView",
       "align_content": null,
       "align_items": null,
       "align_self": null,
       "border_bottom": null,
       "border_left": null,
       "border_right": null,
       "border_top": null,
       "bottom": null,
       "display": null,
       "flex": null,
       "flex_flow": null,
       "grid_area": null,
       "grid_auto_columns": null,
       "grid_auto_flow": null,
       "grid_auto_rows": null,
       "grid_column": null,
       "grid_gap": null,
       "grid_row": null,
       "grid_template_areas": null,
       "grid_template_columns": null,
       "grid_template_rows": null,
       "height": null,
       "justify_content": null,
       "justify_items": null,
       "left": null,
       "margin": null,
       "max_height": null,
       "max_width": null,
       "min_height": null,
       "min_width": null,
       "object_fit": null,
       "object_position": null,
       "order": null,
       "overflow": null,
       "padding": null,
       "right": null,
       "top": null,
       "visibility": null,
       "width": null
      }
     },
     "86191344e90b4f8c8be932358db7e314": {
      "model_module": "@jupyter-widgets/controls",
      "model_module_version": "2.0.0",
      "model_name": "HTMLModel",
      "state": {
       "_dom_classes": [],
       "_model_module": "@jupyter-widgets/controls",
       "_model_module_version": "2.0.0",
       "_model_name": "HTMLModel",
       "_view_count": null,
       "_view_module": "@jupyter-widgets/controls",
       "_view_module_version": "2.0.0",
       "_view_name": "HTMLView",
       "description": "",
       "description_allow_html": false,
       "layout": "IPY_MODEL_983f844eed0c463a9806aece6ddaa881",
       "placeholder": "​",
       "style": "IPY_MODEL_f24f3994ba384ff9bbed9d9bf8f05a34",
       "tabbable": null,
       "tooltip": null,
       "value": " 5.36k/5.36k [00:00&lt;00:00, 479kB/s]"
      }
     },
     "983f844eed0c463a9806aece6ddaa881": {
      "model_module": "@jupyter-widgets/base",
      "model_module_version": "2.0.0",
      "model_name": "LayoutModel",
      "state": {
       "_model_module": "@jupyter-widgets/base",
       "_model_module_version": "2.0.0",
       "_model_name": "LayoutModel",
       "_view_count": null,
       "_view_module": "@jupyter-widgets/base",
       "_view_module_version": "2.0.0",
       "_view_name": "LayoutView",
       "align_content": null,
       "align_items": null,
       "align_self": null,
       "border_bottom": null,
       "border_left": null,
       "border_right": null,
       "border_top": null,
       "bottom": null,
       "display": null,
       "flex": null,
       "flex_flow": null,
       "grid_area": null,
       "grid_auto_columns": null,
       "grid_auto_flow": null,
       "grid_auto_rows": null,
       "grid_column": null,
       "grid_gap": null,
       "grid_row": null,
       "grid_template_areas": null,
       "grid_template_columns": null,
       "grid_template_rows": null,
       "height": null,
       "justify_content": null,
       "justify_items": null,
       "left": null,
       "margin": null,
       "max_height": null,
       "max_width": null,
       "min_height": null,
       "min_width": null,
       "object_fit": null,
       "object_position": null,
       "order": null,
       "overflow": null,
       "padding": null,
       "right": null,
       "top": null,
       "visibility": null,
       "width": null
      }
     },
     "9a5c1fad51314bf8b92a3c7113a09115": {
      "model_module": "@jupyter-widgets/controls",
      "model_module_version": "2.0.0",
      "model_name": "HTMLStyleModel",
      "state": {
       "_model_module": "@jupyter-widgets/controls",
       "_model_module_version": "2.0.0",
       "_model_name": "HTMLStyleModel",
       "_view_count": null,
       "_view_module": "@jupyter-widgets/base",
       "_view_module_version": "2.0.0",
       "_view_name": "StyleView",
       "background": null,
       "description_width": "",
       "font_size": null,
       "text_color": null
      }
     },
     "9b6923e297aa4b2385572e4ca497f76a": {
      "model_module": "@jupyter-widgets/base",
      "model_module_version": "2.0.0",
      "model_name": "LayoutModel",
      "state": {
       "_model_module": "@jupyter-widgets/base",
       "_model_module_version": "2.0.0",
       "_model_name": "LayoutModel",
       "_view_count": null,
       "_view_module": "@jupyter-widgets/base",
       "_view_module_version": "2.0.0",
       "_view_name": "LayoutView",
       "align_content": null,
       "align_items": null,
       "align_self": null,
       "border_bottom": null,
       "border_left": null,
       "border_right": null,
       "border_top": null,
       "bottom": null,
       "display": null,
       "flex": null,
       "flex_flow": null,
       "grid_area": null,
       "grid_auto_columns": null,
       "grid_auto_flow": null,
       "grid_auto_rows": null,
       "grid_column": null,
       "grid_gap": null,
       "grid_row": null,
       "grid_template_areas": null,
       "grid_template_columns": null,
       "grid_template_rows": null,
       "height": null,
       "justify_content": null,
       "justify_items": null,
       "left": null,
       "margin": null,
       "max_height": null,
       "max_width": null,
       "min_height": null,
       "min_width": null,
       "object_fit": null,
       "object_position": null,
       "order": null,
       "overflow": null,
       "padding": null,
       "right": null,
       "top": null,
       "visibility": null,
       "width": null
      }
     },
     "9c5f85377ef9436c9a66e718781f71cf": {
      "model_module": "@jupyter-widgets/controls",
      "model_module_version": "2.0.0",
      "model_name": "HTMLStyleModel",
      "state": {
       "_model_module": "@jupyter-widgets/controls",
       "_model_module_version": "2.0.0",
       "_model_name": "HTMLStyleModel",
       "_view_count": null,
       "_view_module": "@jupyter-widgets/base",
       "_view_module_version": "2.0.0",
       "_view_name": "StyleView",
       "background": null,
       "description_width": "",
       "font_size": null,
       "text_color": null
      }
     },
     "9e25da32bd784301ad5f69d1347ab5ec": {
      "model_module": "@jupyter-widgets/controls",
      "model_module_version": "2.0.0",
      "model_name": "HTMLStyleModel",
      "state": {
       "_model_module": "@jupyter-widgets/controls",
       "_model_module_version": "2.0.0",
       "_model_name": "HTMLStyleModel",
       "_view_count": null,
       "_view_module": "@jupyter-widgets/base",
       "_view_module_version": "2.0.0",
       "_view_name": "StyleView",
       "background": null,
       "description_width": "",
       "font_size": null,
       "text_color": null
      }
     },
     "a9ff0298ae834362b1509f202fd19968": {
      "model_module": "@jupyter-widgets/controls",
      "model_module_version": "2.0.0",
      "model_name": "HTMLStyleModel",
      "state": {
       "_model_module": "@jupyter-widgets/controls",
       "_model_module_version": "2.0.0",
       "_model_name": "HTMLStyleModel",
       "_view_count": null,
       "_view_module": "@jupyter-widgets/base",
       "_view_module_version": "2.0.0",
       "_view_name": "StyleView",
       "background": null,
       "description_width": "",
       "font_size": null,
       "text_color": null
      }
     },
     "ab87c695db03400a9af52d078b3971e8": {
      "model_module": "@jupyter-widgets/controls",
      "model_module_version": "2.0.0",
      "model_name": "ProgressStyleModel",
      "state": {
       "_model_module": "@jupyter-widgets/controls",
       "_model_module_version": "2.0.0",
       "_model_name": "ProgressStyleModel",
       "_view_count": null,
       "_view_module": "@jupyter-widgets/base",
       "_view_module_version": "2.0.0",
       "_view_name": "StyleView",
       "bar_color": null,
       "description_width": ""
      }
     },
     "ade1bc90dfd84a80bf54ba04ccaead71": {
      "model_module": "@jupyter-widgets/controls",
      "model_module_version": "2.0.0",
      "model_name": "HTMLModel",
      "state": {
       "_dom_classes": [],
       "_model_module": "@jupyter-widgets/controls",
       "_model_module_version": "2.0.0",
       "_model_name": "HTMLModel",
       "_view_count": null,
       "_view_module": "@jupyter-widgets/controls",
       "_view_module_version": "2.0.0",
       "_view_name": "HTMLView",
       "description": "",
       "description_allow_html": false,
       "layout": "IPY_MODEL_79059b38f4d54e8a92091d135cf97506",
       "placeholder": "​",
       "style": "IPY_MODEL_9e25da32bd784301ad5f69d1347ab5ec",
       "tabbable": null,
       "tooltip": null,
       "value": "README.md: 100%"
      }
     },
     "bcf2cda64143465b8ad3d8b330498e94": {
      "model_module": "@jupyter-widgets/controls",
      "model_module_version": "2.0.0",
      "model_name": "FloatProgressModel",
      "state": {
       "_dom_classes": [],
       "_model_module": "@jupyter-widgets/controls",
       "_model_module_version": "2.0.0",
       "_model_name": "FloatProgressModel",
       "_view_count": null,
       "_view_module": "@jupyter-widgets/controls",
       "_view_module_version": "2.0.0",
       "_view_name": "ProgressView",
       "bar_style": "success",
       "description": "",
       "description_allow_html": false,
       "layout": "IPY_MODEL_834595d9ab9b41299b16a991d6677620",
       "max": 10000.0,
       "min": 0.0,
       "orientation": "horizontal",
       "style": "IPY_MODEL_305cc126d7724ed0a46b253ef1977963",
       "tabbable": null,
       "tooltip": null,
       "value": 10000.0
      }
     },
     "cb38db1400c94ab689ef2a4714645c4a": {
      "model_module": "@jupyter-widgets/controls",
      "model_module_version": "2.0.0",
      "model_name": "HBoxModel",
      "state": {
       "_dom_classes": [],
       "_model_module": "@jupyter-widgets/controls",
       "_model_module_version": "2.0.0",
       "_model_name": "HBoxModel",
       "_view_count": null,
       "_view_module": "@jupyter-widgets/controls",
       "_view_module_version": "2.0.0",
       "_view_name": "HBoxView",
       "box_style": "",
       "children": [
        "IPY_MODEL_ade1bc90dfd84a80bf54ba04ccaead71",
        "IPY_MODEL_680b2540e5594833984a6eb04588dc08",
        "IPY_MODEL_86191344e90b4f8c8be932358db7e314"
       ],
       "layout": "IPY_MODEL_45c37bde264146a498a52ea90c9c628a",
       "tabbable": null,
       "tooltip": null
      }
     },
     "d1f8b072a9b64a5980ea449c4f276b36": {
      "model_module": "@jupyter-widgets/base",
      "model_module_version": "2.0.0",
      "model_name": "LayoutModel",
      "state": {
       "_model_module": "@jupyter-widgets/base",
       "_model_module_version": "2.0.0",
       "_model_name": "LayoutModel",
       "_view_count": null,
       "_view_module": "@jupyter-widgets/base",
       "_view_module_version": "2.0.0",
       "_view_name": "LayoutView",
       "align_content": null,
       "align_items": null,
       "align_self": null,
       "border_bottom": null,
       "border_left": null,
       "border_right": null,
       "border_top": null,
       "bottom": null,
       "display": null,
       "flex": null,
       "flex_flow": null,
       "grid_area": null,
       "grid_auto_columns": null,
       "grid_auto_flow": null,
       "grid_auto_rows": null,
       "grid_column": null,
       "grid_gap": null,
       "grid_row": null,
       "grid_template_areas": null,
       "grid_template_columns": null,
       "grid_template_rows": null,
       "height": null,
       "justify_content": null,
       "justify_items": null,
       "left": null,
       "margin": null,
       "max_height": null,
       "max_width": null,
       "min_height": null,
       "min_width": null,
       "object_fit": null,
       "object_position": null,
       "order": null,
       "overflow": null,
       "padding": null,
       "right": null,
       "top": null,
       "visibility": null,
       "width": null
      }
     },
     "d66c0be3c1914c3db578a699c9cee2be": {
      "model_module": "@jupyter-widgets/base",
      "model_module_version": "2.0.0",
      "model_name": "LayoutModel",
      "state": {
       "_model_module": "@jupyter-widgets/base",
       "_model_module_version": "2.0.0",
       "_model_name": "LayoutModel",
       "_view_count": null,
       "_view_module": "@jupyter-widgets/base",
       "_view_module_version": "2.0.0",
       "_view_name": "LayoutView",
       "align_content": null,
       "align_items": null,
       "align_self": null,
       "border_bottom": null,
       "border_left": null,
       "border_right": null,
       "border_top": null,
       "bottom": null,
       "display": null,
       "flex": null,
       "flex_flow": null,
       "grid_area": null,
       "grid_auto_columns": null,
       "grid_auto_flow": null,
       "grid_auto_rows": null,
       "grid_column": null,
       "grid_gap": null,
       "grid_row": null,
       "grid_template_areas": null,
       "grid_template_columns": null,
       "grid_template_rows": null,
       "height": null,
       "justify_content": null,
       "justify_items": null,
       "left": null,
       "margin": null,
       "max_height": null,
       "max_width": null,
       "min_height": null,
       "min_width": null,
       "object_fit": null,
       "object_position": null,
       "order": null,
       "overflow": null,
       "padding": null,
       "right": null,
       "top": null,
       "visibility": null,
       "width": null
      }
     },
     "eba0c54706964251bcdd4816a5813129": {
      "model_module": "@jupyter-widgets/controls",
      "model_module_version": "2.0.0",
      "model_name": "HTMLModel",
      "state": {
       "_dom_classes": [],
       "_model_module": "@jupyter-widgets/controls",
       "_model_module_version": "2.0.0",
       "_model_name": "HTMLModel",
       "_view_count": null,
       "_view_module": "@jupyter-widgets/controls",
       "_view_module_version": "2.0.0",
       "_view_name": "HTMLView",
       "description": "",
       "description_allow_html": false,
       "layout": "IPY_MODEL_302f66d326d244218cc46f9f5e9da209",
       "placeholder": "​",
       "style": "IPY_MODEL_42bbb87b7ac847cea04f9d12b0118d87",
       "tabbable": null,
       "tooltip": null,
       "value": " 1/1 [00:00&lt;00:00, 150.19it/s]"
      }
     },
     "f24f3994ba384ff9bbed9d9bf8f05a34": {
      "model_module": "@jupyter-widgets/controls",
      "model_module_version": "2.0.0",
      "model_name": "HTMLStyleModel",
      "state": {
       "_model_module": "@jupyter-widgets/controls",
       "_model_module_version": "2.0.0",
       "_model_name": "HTMLStyleModel",
       "_view_count": null,
       "_view_module": "@jupyter-widgets/base",
       "_view_module_version": "2.0.0",
       "_view_name": "StyleView",
       "background": null,
       "description_width": "",
       "font_size": null,
       "text_color": null
      }
     }
    },
    "version_major": 2,
    "version_minor": 0
   }
  }
 },
 "nbformat": 4,
 "nbformat_minor": 5
}
